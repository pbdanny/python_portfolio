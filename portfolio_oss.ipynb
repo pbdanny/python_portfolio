{
 "cells": [
  {
   "cell_type": "code",
   "execution_count": 10,
   "metadata": {},
   "outputs": [],
   "source": [
    "# initialized connection\n",
    "import pandas as pd\n",
    "import numpy as np\n",
    "import matplotlib.pyplot as plt\n",
    "import psycopg2 as pg"
   ]
  },
  {
   "cell_type": "code",
   "execution_count": 11,
   "metadata": {},
   "outputs": [],
   "source": [
    "# read pwd string from save file\n",
    "with open('postgrest_pwd.txt', 'r') as f:\n",
    "    pwd = f.readline()"
   ]
  },
  {
   "cell_type": "code",
   "execution_count": 12,
   "metadata": {},
   "outputs": [],
   "source": [
    "# read data from table to datatframe with Month form 201801\n",
    "table = 'mis_cc_kpi_m'\n",
    "with pg.connect(database='ktc', user='postgres', password=pwd) as con:\n",
    "    df = pd.read_sql('select * from ' + table + ' where \"month\"::bigint >= 201801', con = con)"
   ]
  },
  {
   "cell_type": "markdown",
   "metadata": {},
   "source": [
    "## Oss Credit card by month\n",
    "### Approved performance"
   ]
  },
  {
   "cell_type": "markdown",
   "metadata": {},
   "source": [
    "#### Finalized"
   ]
  },
  {
   "cell_type": "code",
   "execution_count": 13,
   "metadata": {},
   "outputs": [
    {
     "data": {
      "text/html": [
       "<div>\n",
       "<style scoped>\n",
       "    .dataframe tbody tr th:only-of-type {\n",
       "        vertical-align: middle;\n",
       "    }\n",
       "\n",
       "    .dataframe tbody tr th {\n",
       "        vertical-align: top;\n",
       "    }\n",
       "\n",
       "    .dataframe thead th {\n",
       "        text-align: right;\n",
       "    }\n",
       "</style>\n",
       "<table border=\"1\" class=\"dataframe\">\n",
       "  <thead>\n",
       "    <tr style=\"text-align: right;\">\n",
       "      <th></th>\n",
       "      <th>month</th>\n",
       "      <th>201801</th>\n",
       "      <th>201802</th>\n",
       "      <th>201803</th>\n",
       "      <th>201804</th>\n",
       "      <th>201805</th>\n",
       "    </tr>\n",
       "    <tr>\n",
       "      <th>channel</th>\n",
       "      <th>channel_sub</th>\n",
       "      <th></th>\n",
       "      <th></th>\n",
       "      <th></th>\n",
       "      <th></th>\n",
       "      <th></th>\n",
       "    </tr>\n",
       "  </thead>\n",
       "  <tbody>\n",
       "    <tr>\n",
       "      <th rowspan=\"2\" valign=\"top\">OSS</th>\n",
       "      <th>Direct</th>\n",
       "      <td>17,962</td>\n",
       "      <td>21,491</td>\n",
       "      <td>21,146</td>\n",
       "      <td>16,711</td>\n",
       "      <td>22,006</td>\n",
       "    </tr>\n",
       "    <tr>\n",
       "      <th>OSS_Tele</th>\n",
       "      <td>1,184</td>\n",
       "      <td>1,275</td>\n",
       "      <td>1,158</td>\n",
       "      <td>1,495</td>\n",
       "      <td>1,744</td>\n",
       "    </tr>\n",
       "    <tr>\n",
       "      <th>Tele</th>\n",
       "      <th>Telesales</th>\n",
       "      <td>3,677</td>\n",
       "      <td>4,752</td>\n",
       "      <td>5,913</td>\n",
       "      <td>4,476</td>\n",
       "      <td>6,444</td>\n",
       "    </tr>\n",
       "  </tbody>\n",
       "</table>\n",
       "</div>"
      ],
      "text/plain": [
       "month                201801  201802  201803  201804  201805\n",
       "channel channel_sub                                        \n",
       "OSS     Direct       17,962  21,491  21,146  16,711  22,006\n",
       "        OSS_Tele      1,184   1,275   1,158   1,495   1,744\n",
       "Tele    Telesales     3,677   4,752   5,913   4,476   6,444"
      ]
     },
     "execution_count": 13,
     "metadata": {},
     "output_type": "execute_result"
    }
   ],
   "source": [
    "df_gr = df.groupby(['month', 'channel', 'channel_sub'])\n",
    "df_gr['finalized'].sum().unstack(0).applymap(\"{:,d}\".format)"
   ]
  },
  {
   "cell_type": "markdown",
   "metadata": {},
   "source": [
    "#### Approve-new"
   ]
  },
  {
   "cell_type": "code",
   "execution_count": null,
   "metadata": {},
   "outputs": [],
   "source": [
    "df_gr['appr_new'].sum().unstack(0).applymap(\"{:,d}\".format)"
   ]
  },
  {
   "cell_type": "markdown",
   "metadata": {},
   "source": [
    "#### % Appr-rate"
   ]
  },
  {
   "cell_type": "code",
   "execution_count": null,
   "metadata": {},
   "outputs": [],
   "source": [
    "(df_gr['appr'].sum()/df_gr['finalized'].sum()).unstack(0).applymap(\"{:.0%}\".format)"
   ]
  },
  {
   "cell_type": "markdown",
   "metadata": {},
   "source": [
    "#### Credit limit new"
   ]
  },
  {
   "cell_type": "code",
   "execution_count": null,
   "metadata": {},
   "outputs": [],
   "source": [
    "(df_gr['credit_limit_new'].sum()/df_gr['appr_new'].sum()).unstack(0).applymap(\"{:,.0f}\".format)"
   ]
  },
  {
   "cell_type": "markdown",
   "metadata": {},
   "source": [
    "#### % active60D"
   ]
  },
  {
   "cell_type": "code",
   "execution_count": null,
   "metadata": {},
   "outputs": [],
   "source": [
    "(df_gr['active60'].sum()/df_gr['appr_new'].sum()).unstack(0).applymap(\"{:.0%}\".format)"
   ]
  },
  {
   "cell_type": "code",
   "execution_count": null,
   "metadata": {},
   "outputs": [],
   "source": [
    "df.groupby(['channel_sub', 'month'])['finalized'].sum().unstack(0).plot()"
   ]
  },
  {
   "cell_type": "code",
   "execution_count": null,
   "metadata": {},
   "outputs": [],
   "source": [
    "df_gr[['finalized', 'appr_new']].sum().stack().unstack(0).applymap(\"{:,d}\".format)"
   ]
  },
  {
   "cell_type": "code",
   "execution_count": null,
   "metadata": {},
   "outputs": [],
   "source": [
    "# group by , sum, reset MultiIndex -> DataFrame\n",
    "i = df_gr[['finalized', 'appr', 'appr_new']].sum().reset_index()\n",
    "# create per apr from appr_new / finalzied\n",
    "i['per_apr'] = (i['appr_new']/i['finalized'])\n",
    "# Set style\n",
    "i.style.format({'finalized':\"{:,.0f}\", 'appr':\"{:,.0f}\", 'appr_new':\"{:,.0f}\"}).format({'per_apr':\"{:,.0%}\"})"
   ]
  },
  {
   "cell_type": "markdown",
   "metadata": {},
   "source": [
    "### Top Reason\n",
    "#### top 5 Decline"
   ]
  },
  {
   "cell_type": "code",
   "execution_count": 63,
   "metadata": {},
   "outputs": [],
   "source": [
    "# Filter only result == 'R' and channel == 'OSS'\n",
    "# then group by month, result_description\n",
    "# then size() \n",
    "# then reset MultiIndex to DataFrame\n",
    "decline = (df[(df.result == 'R') & (df.channel == 'OSS')]\n",
    "           .groupby(['month','result_description'])['finalized']\n",
    "           .size().reset_index())"
   ]
  },
  {
   "cell_type": "code",
   "execution_count": 68,
   "metadata": {},
   "outputs": [],
   "source": [
    "# create column rn = sort by finalized, decending order\n",
    "# group by month, create rn (row_number) by cumcount()  +1\n",
    "# query only rn (row_number) <= 5 (top 5)\n",
    "# sort Dataframe by 'month and rn'\n",
    "\n",
    "top_decline = (decline.assign(rn = decline.sort_values(['finalized'], ascending=False)\n",
    "               .groupby(['month']).cumcount() + 1)\n",
    "               .query('rn <= 5')\n",
    "               .sort_values(['month', 'rn']))"
   ]
  },
  {
   "cell_type": "code",
   "execution_count": 105,
   "metadata": {},
   "outputs": [
    {
     "data": {
      "text/html": [
       "<div>\n",
       "<style scoped>\n",
       "    .dataframe tbody tr th:only-of-type {\n",
       "        vertical-align: middle;\n",
       "    }\n",
       "\n",
       "    .dataframe tbody tr th {\n",
       "        vertical-align: top;\n",
       "    }\n",
       "\n",
       "    .dataframe thead th {\n",
       "        text-align: right;\n",
       "    }\n",
       "</style>\n",
       "<table border=\"1\" class=\"dataframe\">\n",
       "  <thead>\n",
       "    <tr style=\"text-align: right;\">\n",
       "      <th>month</th>\n",
       "      <th>201801</th>\n",
       "      <th>201802</th>\n",
       "      <th>201803</th>\n",
       "      <th>201804</th>\n",
       "      <th>201805</th>\n",
       "    </tr>\n",
       "    <tr>\n",
       "      <th>result_description</th>\n",
       "      <th></th>\n",
       "      <th></th>\n",
       "      <th></th>\n",
       "      <th></th>\n",
       "      <th></th>\n",
       "    </tr>\n",
       "  </thead>\n",
       "  <tbody>\n",
       "    <tr>\n",
       "      <th>D24</th>\n",
       "      <td>3171</td>\n",
       "      <td>3543</td>\n",
       "      <td>3599</td>\n",
       "      <td>2780</td>\n",
       "      <td>3598</td>\n",
       "    </tr>\n",
       "    <tr>\n",
       "      <th>D09</th>\n",
       "      <td>1426</td>\n",
       "      <td>1734</td>\n",
       "      <td>1827</td>\n",
       "      <td>1266</td>\n",
       "      <td>1723</td>\n",
       "    </tr>\n",
       "    <tr>\n",
       "      <th>D11</th>\n",
       "      <td>1789</td>\n",
       "      <td>1971</td>\n",
       "      <td>1517</td>\n",
       "      <td>1214</td>\n",
       "      <td>1515</td>\n",
       "    </tr>\n",
       "    <tr>\n",
       "      <th>D01</th>\n",
       "      <td>673</td>\n",
       "      <td>909</td>\n",
       "      <td>1083</td>\n",
       "      <td>774</td>\n",
       "      <td>979</td>\n",
       "    </tr>\n",
       "    <tr>\n",
       "      <th>D30</th>\n",
       "      <td>659</td>\n",
       "      <td>763</td>\n",
       "      <td>856</td>\n",
       "      <td>676</td>\n",
       "      <td>827</td>\n",
       "    </tr>\n",
       "  </tbody>\n",
       "</table>\n",
       "</div>"
      ],
      "text/plain": [
       "month               201801  201802  201803  201804  201805\n",
       "result_description                                        \n",
       "D24                   3171    3543    3599    2780    3598\n",
       "D09                   1426    1734    1827    1266    1723\n",
       "D11                   1789    1971    1517    1214    1515\n",
       "D01                    673     909    1083     774     979\n",
       "D30                    659     763     856     676     827"
      ]
     },
     "execution_count": 105,
     "metadata": {},
     "output_type": "execute_result"
    }
   ],
   "source": [
    "# transform DataFrame to MultiIndex with pivot, sort by values in 201805\n",
    "top_decline.pivot(index='result_description', columns='month', values='finalized').sort_values('201805', ascending = False)"
   ]
  },
  {
   "cell_type": "code",
   "execution_count": null,
   "metadata": {},
   "outputs": [],
   "source": []
  }
 ],
 "metadata": {
  "kernelspec": {
   "display_name": "Python 3",
   "language": "python",
   "name": "python3"
  },
  "language_info": {
   "codemirror_mode": {
    "name": "ipython",
    "version": 3
   },
   "file_extension": ".py",
   "mimetype": "text/x-python",
   "name": "python",
   "nbconvert_exporter": "python",
   "pygments_lexer": "ipython3",
   "version": "3.6.5"
  }
 },
 "nbformat": 4,
 "nbformat_minor": 2
}
