{
 "cells": [
  {
   "cell_type": "code",
   "execution_count": null,
   "metadata": {},
   "outputs": [],
   "source": [
    "# initialized connection\n",
    "import pandas as pd\n",
    "import numpy as np\n",
    "import matplotlib.pyplot as plt\n",
    "import psycopg2 as pg"
   ]
  },
  {
   "cell_type": "code",
   "execution_count": null,
   "metadata": {},
   "outputs": [],
   "source": [
    "# read pwd string from save file\n",
    "with open('postgrest_pwd.txt', 'r') as f:\n",
    "    pwd = f.readline()"
   ]
  },
  {
   "cell_type": "code",
   "execution_count": null,
   "metadata": {},
   "outputs": [],
   "source": [
    "# read data from table to datatframe with Month form 201801\n",
    "table = 'mis_cc_kpi_m'\n",
    "with pg.connect(database='ktc', user='postgres', password=pwd) as con:\n",
    "    df = pd.read_sql('select * from ' + table + ' where \"month\"::bigint >= 201801', con = con)"
   ]
  },
  {
   "cell_type": "markdown",
   "metadata": {},
   "source": [
    "## Oss Credit card by month\n",
    "### Approved performance"
   ]
  },
  {
   "cell_type": "markdown",
   "metadata": {},
   "source": [
    "#### Finalized"
   ]
  },
  {
   "cell_type": "code",
   "execution_count": null,
   "metadata": {},
   "outputs": [],
   "source": [
    "df_gr = df.groupby(['month', 'channel', 'channel_sub'])\n",
    "df_gr['finalized'].sum().unstack(0).applymap(\"{:,d}\".format)"
   ]
  },
  {
   "cell_type": "markdown",
   "metadata": {},
   "source": [
    "#### Approve-new"
   ]
  },
  {
   "cell_type": "code",
   "execution_count": null,
   "metadata": {},
   "outputs": [],
   "source": [
    "df_gr['appr_new'].sum().unstack(0).applymap(\"{:,d}\".format)"
   ]
  },
  {
   "cell_type": "markdown",
   "metadata": {},
   "source": [
    "#### % Appr-rate"
   ]
  },
  {
   "cell_type": "code",
   "execution_count": null,
   "metadata": {},
   "outputs": [],
   "source": [
    "(df_gr['appr'].sum()/df_gr['finalized'].sum()).unstack(0).applymap(\"{:.0%}\".format)"
   ]
  },
  {
   "cell_type": "markdown",
   "metadata": {},
   "source": [
    "#### Credit limit new"
   ]
  },
  {
   "cell_type": "code",
   "execution_count": null,
   "metadata": {},
   "outputs": [],
   "source": [
    "(df_gr['credit_limit_new'].sum()/df_gr['appr_new'].sum()).unstack(0).applymap(\"{:,.0f}\".format)"
   ]
  },
  {
   "cell_type": "markdown",
   "metadata": {},
   "source": [
    "#### % active60D"
   ]
  },
  {
   "cell_type": "code",
   "execution_count": null,
   "metadata": {},
   "outputs": [],
   "source": [
    "(df_gr['active60'].sum()/df_gr['appr_new'].sum()).unstack(0).applymap(\"{:.0%}\".format)"
   ]
  },
  {
   "cell_type": "code",
   "execution_count": null,
   "metadata": {},
   "outputs": [],
   "source": [
    "df.groupby(['channel_sub', 'month'])['finalized'].sum().unstack(0).plot()"
   ]
  },
  {
   "cell_type": "code",
   "execution_count": null,
   "metadata": {},
   "outputs": [],
   "source": [
    "df_gr[['finalized', 'appr_new']].sum().stack().unstack(0).applymap(\"{:,d}\".format)"
   ]
  },
  {
   "cell_type": "code",
   "execution_count": null,
   "metadata": {},
   "outputs": [],
   "source": [
    "# group by , sum, reset MultiIndex -> DataFrame\n",
    "i = df_gr[['finalized', 'appr', 'appr_new']].sum().reset_index()\n",
    "# create per apr from appr_new / finalzied\n",
    "i['per_apr'] = (i['appr_new']/i['finalized'])\n",
    "# Set style\n",
    "i.style.format({'finalized':\"{:,.0f}\", 'appr':\"{:,.0f}\", 'appr_new':\"{:,.0f}\"}).format({'per_apr':\"{:,.0%}\"})"
   ]
  },
  {
   "cell_type": "markdown",
   "metadata": {},
   "source": [
    "### Top Reason\n",
    "#### OSS - top 5 Decline"
   ]
  },
  {
   "cell_type": "code",
   "execution_count": null,
   "metadata": {},
   "outputs": [],
   "source": [
    "# Filter only result == 'R' and channel == 'OSS'\n",
    "# then group by month, result_description\n",
    "# then size() \n",
    "# then reset MultiIndex to DataFrame\n",
    "decline = (df[(df.result == 'R') & (df.channel == 'OSS')]\n",
    "           .groupby(['month','result_description'])['finalized']\n",
    "           .size().reset_index())"
   ]
  },
  {
   "cell_type": "code",
   "execution_count": null,
   "metadata": {},
   "outputs": [],
   "source": [
    "# create column rn = sort by finalized, decending order\n",
    "# group by month, create rn (row_number) by cumcount()  +1\n",
    "# query only rn (row_number) <= 5 (top 5)\n",
    "# sort Dataframe by 'month and rn'\n",
    "\n",
    "top_decline = (decline.assign(rn = decline.sort_values(['finalized'], ascending=False)\n",
    "               .groupby(['month']).cumcount() + 1)\n",
    "               .query('rn <= 5')\n",
    "               .sort_values(['month', 'rn']))"
   ]
  },
  {
   "cell_type": "code",
   "execution_count": null,
   "metadata": {},
   "outputs": [],
   "source": [
    "# transform DataFrame to MultiIndex with pivot, sort by values in 201805\n",
    "top_decline.pivot(index='result_description', columns='month', values='finalized').sort_values('201805', ascending = False)"
   ]
  },
  {
   "cell_type": "markdown",
   "metadata": {},
   "source": [
    "Another way of creating top decline"
   ]
  },
  {
   "cell_type": "code",
   "execution_count": null,
   "metadata": {},
   "outputs": [],
   "source": [
    "(df.query('result == \"R\" and channel == \"OSS\"')\n",
    " .groupby(['month', 'result_description'])\n",
    " .size().unstack(0).sort_values('201805', ascending = False).head(5))"
   ]
  },
  {
   "cell_type": "markdown",
   "metadata": {},
   "source": [
    "OSS - % top 5 decline"
   ]
  },
  {
   "cell_type": "code",
   "execution_count": null,
   "metadata": {},
   "outputs": [],
   "source": [
    "# Series of top decline by month and reason\n",
    "decline = (df.query('result == \"R\" and channel == \"OSS\"')\n",
    " .groupby(['month', 'result_description'])\n",
    " .size())\n",
    "\n",
    "# Series of finalized by month\n",
    "finalized = (df.groupby('month').size())\n",
    "\n",
    "# Series of top decline by month and reason / series of finalized by month, matching by month\n",
    "(decline.div(finalized, level='month')\n",
    " .unstack(0)\n",
    " .sort_values('201805', ascending = False)\n",
    " .applymap(\"{:,.0%}\".format).head(5))"
   ]
  },
  {
   "cell_type": "markdown",
   "metadata": {},
   "source": [
    "Oss - Top 5 cancel & % top 5 cancel"
   ]
  },
  {
   "cell_type": "code",
   "execution_count": null,
   "metadata": {},
   "outputs": [],
   "source": [
    "oss_cancel = (df.query('result == \"C\" and channel == \"OSS\"')\n",
    "              .groupby(['month', 'result_description']).size())\n",
    "oss_finaize = (df.query('channel == \"OSS\"').groupby('month').size())\n",
    "\n",
    "oss_cancel.unstack(0).sort_values('201805', ascending = False).head(5).applymap(\"{:,.0f}\".format)"
   ]
  },
  {
   "cell_type": "code",
   "execution_count": null,
   "metadata": {},
   "outputs": [],
   "source": [
    "(oss_cancel.div(oss_finaize, level = 'month').unstack(0).sort_values('201805', ascending = False)\n",
    " .head(5).applymap(\"{:,.0%}\".format))"
   ]
  },
  {
   "cell_type": "markdown",
   "metadata": {},
   "source": [
    "### Demographic group"
   ]
  },
  {
   "cell_type": "code",
   "execution_count": null,
   "metadata": {},
   "outputs": [],
   "source": [
    "%matplotlib notebook"
   ]
  },
  {
   "cell_type": "code",
   "execution_count": null,
   "metadata": {},
   "outputs": [],
   "source": [
    "df.loc[df.age > 0].groupby('month')['age'].plot.density()"
   ]
  },
  {
   "cell_type": "code",
   "execution_count": null,
   "metadata": {},
   "outputs": [],
   "source": [
    "# use group by\n",
    "df.groupby(['channel','bkk_upc']).size().unstack(0)"
   ]
  },
  {
   "cell_type": "code",
   "execution_count": null,
   "metadata": {},
   "outputs": [],
   "source": [
    "# use cross tab\n",
    "pd.crosstab(df.bkk_upc, df.channel)"
   ]
  },
  {
   "cell_type": "code",
   "execution_count": null,
   "metadata": {},
   "outputs": [],
   "source": [
    "%matplotlib inline\n",
    "df.groupby(['channel','bkk_upc']).size().unstack(0).plot.pie(subplots = True, figsize=(8,4))"
   ]
  },
  {
   "cell_type": "code",
   "execution_count": null,
   "metadata": {},
   "outputs": [],
   "source": [
    "df.groupby(['channel','month','bkk_upc']).size().unstack([0,1])['OSS'].plot.pie(subplots = True, figsize=(20,4))"
   ]
  },
  {
   "cell_type": "code",
   "execution_count": null,
   "metadata": {},
   "outputs": [],
   "source": [
    "df.groupby(['channel','month','bkk_upc']).size().unstack([0,2])['OSS'].plot.bar(stacked = True)"
   ]
  },
  {
   "cell_type": "markdown",
   "metadata": {},
   "source": [
    "### Statistical inference"
   ]
  },
  {
   "cell_type": "code",
   "execution_count": null,
   "metadata": {},
   "outputs": [],
   "source": [
    "df.query('channel == \"OSS\" and age > 0').boxplot(column='age', by='month')"
   ]
  },
  {
   "cell_type": "code",
   "execution_count": null,
   "metadata": {},
   "outputs": [],
   "source": [
    "df.query('channel == \"OSS\" and age > 0').groupby('month')['age'].mean()"
   ]
  },
  {
   "cell_type": "code",
   "execution_count": 61,
   "metadata": {},
   "outputs": [
    {
     "data": {
      "text/plain": [
       "Ttest_indResult(statistic=9.951514251288366, pvalue=2.6243795754371512e-23)"
      ]
     },
     "execution_count": 61,
     "metadata": {},
     "output_type": "execute_result"
    }
   ],
   "source": [
    "# Pair-wised t-test differenc in mean\n",
    "from scipy import stats\n",
    "stats.ttest_ind(df.query('channel == \"OSS\" and month == \"201803\"')['age'], \n",
    "                df.query('channel == \"OSS\" and month == \"201805\"')['age'])"
   ]
  },
  {
   "cell_type": "markdown",
   "metadata": {},
   "source": [
    "p-value = 2.64e-23, reject-H0 -> age mean of 201803 <> age mean of 201805"
   ]
  },
  {
   "cell_type": "code",
   "execution_count": null,
   "metadata": {},
   "outputs": [],
   "source": [
    "import pandas.plotting as plotting\n",
    "plotting.scatter_matrix(df[['age', 'monthly_salary', 'approve_amount']])"
   ]
  },
  {
   "cell_type": "code",
   "execution_count": null,
   "metadata": {},
   "outputs": [],
   "source": [
    "import seaborn as sns\n",
    "sns.pairplot(df, vars=['age', 'monthly_salary'], hue='result')"
   ]
  },
  {
   "cell_type": "markdown",
   "metadata": {},
   "source": [
    "### Linear Regression"
   ]
  },
  {
   "cell_type": "code",
   "execution_count": null,
   "metadata": {},
   "outputs": [],
   "source": [
    "# from statsmodels.formula.api import olsM\n",
    "model = ols(\"approve_amount ~ result\", df).fit()\n",
    "model.summary()"
   ]
  }
 ],
 "metadata": {
  "kernelspec": {
   "display_name": "Python 3",
   "language": "python",
   "name": "python3"
  },
  "language_info": {
   "codemirror_mode": {
    "name": "ipython",
    "version": 3
   },
   "file_extension": ".py",
   "mimetype": "text/x-python",
   "name": "python",
   "nbconvert_exporter": "python",
   "pygments_lexer": "ipython3",
   "version": "3.6.5"
  }
 },
 "nbformat": 4,
 "nbformat_minor": 2
}
