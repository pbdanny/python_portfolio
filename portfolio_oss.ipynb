{
 "cells": [
  {
   "cell_type": "code",
   "execution_count": 11,
   "metadata": {
    "slideshow": {
     "slide_type": "slide"
    }
   },
   "outputs": [],
   "source": [
    "# initialized connection\n",
    "import pandas as pd\n",
    "import numpy as np\n",
    "import matplotlib.pyplot as plt\n",
    "import psycopg2 as pg\n",
    "from scipy import stats"
   ]
  },
  {
   "cell_type": "code",
   "execution_count": 12,
   "metadata": {
    "slideshow": {
     "slide_type": "slide"
    }
   },
   "outputs": [],
   "source": [
    "# read pwd string from save file\n",
    "with open('postgrest_pwd.txt', 'r') as f:\n",
    "    pwd = f.readline()"
   ]
  },
  {
   "cell_type": "code",
   "execution_count": 13,
   "metadata": {},
   "outputs": [],
   "source": [
    "# read data from table to datatframe with Month form 201801\n",
    "table = 'mis_cc_kpi_m'\n",
    "with pg.connect(database='ktc', user='postgres', password=pwd) as con:\n",
    "    df = pd.read_sql('select * from ' + table + ' where \"month\"::bigint >= 201801', con = con)"
   ]
  },
  {
   "cell_type": "markdown",
   "metadata": {},
   "source": [
    "## Oss Credit card by month\n",
    "### Approved performance"
   ]
  },
  {
   "cell_type": "markdown",
   "metadata": {},
   "source": [
    "#### Finalized"
   ]
  },
  {
   "cell_type": "code",
   "execution_count": 14,
   "metadata": {},
   "outputs": [
    {
     "data": {
      "text/html": [
       "<div>\n",
       "<style scoped>\n",
       "    .dataframe tbody tr th:only-of-type {\n",
       "        vertical-align: middle;\n",
       "    }\n",
       "\n",
       "    .dataframe tbody tr th {\n",
       "        vertical-align: top;\n",
       "    }\n",
       "\n",
       "    .dataframe thead th {\n",
       "        text-align: right;\n",
       "    }\n",
       "</style>\n",
       "<table border=\"1\" class=\"dataframe\">\n",
       "  <thead>\n",
       "    <tr style=\"text-align: right;\">\n",
       "      <th></th>\n",
       "      <th>month</th>\n",
       "      <th>201801</th>\n",
       "      <th>201802</th>\n",
       "      <th>201803</th>\n",
       "      <th>201804</th>\n",
       "      <th>201805</th>\n",
       "    </tr>\n",
       "    <tr>\n",
       "      <th>channel</th>\n",
       "      <th>channel_sub</th>\n",
       "      <th></th>\n",
       "      <th></th>\n",
       "      <th></th>\n",
       "      <th></th>\n",
       "      <th></th>\n",
       "    </tr>\n",
       "  </thead>\n",
       "  <tbody>\n",
       "    <tr>\n",
       "      <th rowspan=\"2\" valign=\"top\">OSS</th>\n",
       "      <th>Direct</th>\n",
       "      <td>17,636</td>\n",
       "      <td>21,175</td>\n",
       "      <td>20,809</td>\n",
       "      <td>16,393</td>\n",
       "      <td>21,638</td>\n",
       "    </tr>\n",
       "    <tr>\n",
       "      <th>OSS_Tele</th>\n",
       "      <td>1,184</td>\n",
       "      <td>1,275</td>\n",
       "      <td>1,158</td>\n",
       "      <td>1,495</td>\n",
       "      <td>1,744</td>\n",
       "    </tr>\n",
       "    <tr>\n",
       "      <th>Tele</th>\n",
       "      <th>Telesales</th>\n",
       "      <td>3,677</td>\n",
       "      <td>4,752</td>\n",
       "      <td>5,913</td>\n",
       "      <td>4,476</td>\n",
       "      <td>6,444</td>\n",
       "    </tr>\n",
       "  </tbody>\n",
       "</table>\n",
       "</div>"
      ],
      "text/plain": [
       "month                201801  201802  201803  201804  201805\n",
       "channel channel_sub                                        \n",
       "OSS     Direct       17,636  21,175  20,809  16,393  21,638\n",
       "        OSS_Tele      1,184   1,275   1,158   1,495   1,744\n",
       "Tele    Telesales     3,677   4,752   5,913   4,476   6,444"
      ]
     },
     "execution_count": 14,
     "metadata": {},
     "output_type": "execute_result"
    }
   ],
   "source": [
    "df_gr = df.groupby(['month', 'channel', 'channel_sub'])\n",
    "df_gr['finalized'].sum().unstack(0).applymap(\"{:,d}\".format)"
   ]
  },
  {
   "cell_type": "markdown",
   "metadata": {},
   "source": [
    "#### Approve-new"
   ]
  },
  {
   "cell_type": "code",
   "execution_count": 15,
   "metadata": {},
   "outputs": [
    {
     "data": {
      "text/html": [
       "<div>\n",
       "<style scoped>\n",
       "    .dataframe tbody tr th:only-of-type {\n",
       "        vertical-align: middle;\n",
       "    }\n",
       "\n",
       "    .dataframe tbody tr th {\n",
       "        vertical-align: top;\n",
       "    }\n",
       "\n",
       "    .dataframe thead th {\n",
       "        text-align: right;\n",
       "    }\n",
       "</style>\n",
       "<table border=\"1\" class=\"dataframe\">\n",
       "  <thead>\n",
       "    <tr style=\"text-align: right;\">\n",
       "      <th></th>\n",
       "      <th>month</th>\n",
       "      <th>201801</th>\n",
       "      <th>201802</th>\n",
       "      <th>201803</th>\n",
       "      <th>201804</th>\n",
       "      <th>201805</th>\n",
       "    </tr>\n",
       "    <tr>\n",
       "      <th>channel</th>\n",
       "      <th>channel_sub</th>\n",
       "      <th></th>\n",
       "      <th></th>\n",
       "      <th></th>\n",
       "      <th></th>\n",
       "      <th></th>\n",
       "    </tr>\n",
       "  </thead>\n",
       "  <tbody>\n",
       "    <tr>\n",
       "      <th rowspan=\"2\" valign=\"top\">OSS</th>\n",
       "      <th>Direct</th>\n",
       "      <td>6,582</td>\n",
       "      <td>7,912</td>\n",
       "      <td>7,620</td>\n",
       "      <td>6,027</td>\n",
       "      <td>8,402</td>\n",
       "    </tr>\n",
       "    <tr>\n",
       "      <th>OSS_Tele</th>\n",
       "      <td>530</td>\n",
       "      <td>496</td>\n",
       "      <td>459</td>\n",
       "      <td>607</td>\n",
       "      <td>790</td>\n",
       "    </tr>\n",
       "    <tr>\n",
       "      <th>Tele</th>\n",
       "      <th>Telesales</th>\n",
       "      <td>1,472</td>\n",
       "      <td>1,544</td>\n",
       "      <td>1,931</td>\n",
       "      <td>1,538</td>\n",
       "      <td>2,124</td>\n",
       "    </tr>\n",
       "  </tbody>\n",
       "</table>\n",
       "</div>"
      ],
      "text/plain": [
       "month               201801 201802 201803 201804 201805\n",
       "channel channel_sub                                   \n",
       "OSS     Direct       6,582  7,912  7,620  6,027  8,402\n",
       "        OSS_Tele       530    496    459    607    790\n",
       "Tele    Telesales    1,472  1,544  1,931  1,538  2,124"
      ]
     },
     "execution_count": 15,
     "metadata": {},
     "output_type": "execute_result"
    }
   ],
   "source": [
    "df_gr['appr_new'].sum().unstack(0).applymap(\"{:,d}\".format)"
   ]
  },
  {
   "cell_type": "markdown",
   "metadata": {},
   "source": [
    "#### % Appr-rate"
   ]
  },
  {
   "cell_type": "code",
   "execution_count": 16,
   "metadata": {},
   "outputs": [
    {
     "data": {
      "text/html": [
       "<div>\n",
       "<style scoped>\n",
       "    .dataframe tbody tr th:only-of-type {\n",
       "        vertical-align: middle;\n",
       "    }\n",
       "\n",
       "    .dataframe tbody tr th {\n",
       "        vertical-align: top;\n",
       "    }\n",
       "\n",
       "    .dataframe thead th {\n",
       "        text-align: right;\n",
       "    }\n",
       "</style>\n",
       "<table border=\"1\" class=\"dataframe\">\n",
       "  <thead>\n",
       "    <tr style=\"text-align: right;\">\n",
       "      <th></th>\n",
       "      <th>month</th>\n",
       "      <th>201801</th>\n",
       "      <th>201802</th>\n",
       "      <th>201803</th>\n",
       "      <th>201804</th>\n",
       "      <th>201805</th>\n",
       "    </tr>\n",
       "    <tr>\n",
       "      <th>channel</th>\n",
       "      <th>channel_sub</th>\n",
       "      <th></th>\n",
       "      <th></th>\n",
       "      <th></th>\n",
       "      <th></th>\n",
       "      <th></th>\n",
       "    </tr>\n",
       "  </thead>\n",
       "  <tbody>\n",
       "    <tr>\n",
       "      <th rowspan=\"2\" valign=\"top\">OSS</th>\n",
       "      <th>Direct</th>\n",
       "      <td>41%</td>\n",
       "      <td>42%</td>\n",
       "      <td>40%</td>\n",
       "      <td>42%</td>\n",
       "      <td>44%</td>\n",
       "    </tr>\n",
       "    <tr>\n",
       "      <th>OSS_Tele</th>\n",
       "      <td>46%</td>\n",
       "      <td>40%</td>\n",
       "      <td>41%</td>\n",
       "      <td>42%</td>\n",
       "      <td>52%</td>\n",
       "    </tr>\n",
       "    <tr>\n",
       "      <th>Tele</th>\n",
       "      <th>Telesales</th>\n",
       "      <td>43%</td>\n",
       "      <td>42%</td>\n",
       "      <td>41%</td>\n",
       "      <td>37%</td>\n",
       "      <td>35%</td>\n",
       "    </tr>\n",
       "  </tbody>\n",
       "</table>\n",
       "</div>"
      ],
      "text/plain": [
       "month               201801 201802 201803 201804 201805\n",
       "channel channel_sub                                   \n",
       "OSS     Direct         41%    42%    40%    42%    44%\n",
       "        OSS_Tele       46%    40%    41%    42%    52%\n",
       "Tele    Telesales      43%    42%    41%    37%    35%"
      ]
     },
     "execution_count": 16,
     "metadata": {},
     "output_type": "execute_result"
    }
   ],
   "source": [
    "(df_gr['appr'].sum()/df_gr['finalized'].sum()).unstack(0).applymap(\"{:.0%}\".format)"
   ]
  },
  {
   "cell_type": "markdown",
   "metadata": {},
   "source": [
    "#### Credit limit new"
   ]
  },
  {
   "cell_type": "code",
   "execution_count": 17,
   "metadata": {},
   "outputs": [
    {
     "data": {
      "text/html": [
       "<div>\n",
       "<style scoped>\n",
       "    .dataframe tbody tr th:only-of-type {\n",
       "        vertical-align: middle;\n",
       "    }\n",
       "\n",
       "    .dataframe tbody tr th {\n",
       "        vertical-align: top;\n",
       "    }\n",
       "\n",
       "    .dataframe thead th {\n",
       "        text-align: right;\n",
       "    }\n",
       "</style>\n",
       "<table border=\"1\" class=\"dataframe\">\n",
       "  <thead>\n",
       "    <tr style=\"text-align: right;\">\n",
       "      <th></th>\n",
       "      <th>month</th>\n",
       "      <th>201801</th>\n",
       "      <th>201802</th>\n",
       "      <th>201803</th>\n",
       "      <th>201804</th>\n",
       "      <th>201805</th>\n",
       "    </tr>\n",
       "    <tr>\n",
       "      <th>channel</th>\n",
       "      <th>channel_sub</th>\n",
       "      <th></th>\n",
       "      <th></th>\n",
       "      <th></th>\n",
       "      <th></th>\n",
       "      <th></th>\n",
       "    </tr>\n",
       "  </thead>\n",
       "  <tbody>\n",
       "    <tr>\n",
       "      <th rowspan=\"2\" valign=\"top\">OSS</th>\n",
       "      <th>Direct</th>\n",
       "      <td>51,000</td>\n",
       "      <td>53,503</td>\n",
       "      <td>45,841</td>\n",
       "      <td>53,264</td>\n",
       "      <td>50,112</td>\n",
       "    </tr>\n",
       "    <tr>\n",
       "      <th>OSS_Tele</th>\n",
       "      <td>54,630</td>\n",
       "      <td>43,952</td>\n",
       "      <td>40,033</td>\n",
       "      <td>36,219</td>\n",
       "      <td>43,983</td>\n",
       "    </tr>\n",
       "    <tr>\n",
       "      <th>Tele</th>\n",
       "      <th>Telesales</th>\n",
       "      <td>52,739</td>\n",
       "      <td>52,141</td>\n",
       "      <td>50,016</td>\n",
       "      <td>46,664</td>\n",
       "      <td>47,761</td>\n",
       "    </tr>\n",
       "  </tbody>\n",
       "</table>\n",
       "</div>"
      ],
      "text/plain": [
       "month                201801  201802  201803  201804  201805\n",
       "channel channel_sub                                        \n",
       "OSS     Direct       51,000  53,503  45,841  53,264  50,112\n",
       "        OSS_Tele     54,630  43,952  40,033  36,219  43,983\n",
       "Tele    Telesales    52,739  52,141  50,016  46,664  47,761"
      ]
     },
     "execution_count": 17,
     "metadata": {},
     "output_type": "execute_result"
    }
   ],
   "source": [
    "(df_gr['credit_limit_new'].sum()/df_gr['appr_new'].sum()).unstack(0).applymap(\"{:,.0f}\".format)"
   ]
  },
  {
   "cell_type": "markdown",
   "metadata": {},
   "source": [
    "#### % active60D"
   ]
  },
  {
   "cell_type": "code",
   "execution_count": 18,
   "metadata": {},
   "outputs": [
    {
     "data": {
      "text/html": [
       "<div>\n",
       "<style scoped>\n",
       "    .dataframe tbody tr th:only-of-type {\n",
       "        vertical-align: middle;\n",
       "    }\n",
       "\n",
       "    .dataframe tbody tr th {\n",
       "        vertical-align: top;\n",
       "    }\n",
       "\n",
       "    .dataframe thead th {\n",
       "        text-align: right;\n",
       "    }\n",
       "</style>\n",
       "<table border=\"1\" class=\"dataframe\">\n",
       "  <thead>\n",
       "    <tr style=\"text-align: right;\">\n",
       "      <th></th>\n",
       "      <th>month</th>\n",
       "      <th>201801</th>\n",
       "      <th>201802</th>\n",
       "      <th>201803</th>\n",
       "      <th>201804</th>\n",
       "      <th>201805</th>\n",
       "    </tr>\n",
       "    <tr>\n",
       "      <th>channel</th>\n",
       "      <th>channel_sub</th>\n",
       "      <th></th>\n",
       "      <th></th>\n",
       "      <th></th>\n",
       "      <th></th>\n",
       "      <th></th>\n",
       "    </tr>\n",
       "  </thead>\n",
       "  <tbody>\n",
       "    <tr>\n",
       "      <th rowspan=\"2\" valign=\"top\">OSS</th>\n",
       "      <th>Direct</th>\n",
       "      <td>61%</td>\n",
       "      <td>62%</td>\n",
       "      <td>60%</td>\n",
       "      <td>54%</td>\n",
       "      <td>37%</td>\n",
       "    </tr>\n",
       "    <tr>\n",
       "      <th>OSS_Tele</th>\n",
       "      <td>71%</td>\n",
       "      <td>75%</td>\n",
       "      <td>70%</td>\n",
       "      <td>66%</td>\n",
       "      <td>48%</td>\n",
       "    </tr>\n",
       "    <tr>\n",
       "      <th>Tele</th>\n",
       "      <th>Telesales</th>\n",
       "      <td>86%</td>\n",
       "      <td>86%</td>\n",
       "      <td>85%</td>\n",
       "      <td>79%</td>\n",
       "      <td>65%</td>\n",
       "    </tr>\n",
       "  </tbody>\n",
       "</table>\n",
       "</div>"
      ],
      "text/plain": [
       "month               201801 201802 201803 201804 201805\n",
       "channel channel_sub                                   \n",
       "OSS     Direct         61%    62%    60%    54%    37%\n",
       "        OSS_Tele       71%    75%    70%    66%    48%\n",
       "Tele    Telesales      86%    86%    85%    79%    65%"
      ]
     },
     "execution_count": 18,
     "metadata": {},
     "output_type": "execute_result"
    }
   ],
   "source": [
    "(df_gr['active60'].sum()/df_gr['appr_new'].sum()).unstack(0).applymap(\"{:.0%}\".format)"
   ]
  },
  {
   "cell_type": "code",
   "execution_count": 19,
   "metadata": {},
   "outputs": [
    {
     "data": {
      "text/plain": [
       "<matplotlib.axes._subplots.AxesSubplot at 0x1b78b450>"
      ]
     },
     "execution_count": 19,
     "metadata": {},
     "output_type": "execute_result"
    },
    {
     "data": {
      "image/png": "[encoded data removed]",
      "text/plain": [
       "<Figure size 432x288 with 1 Axes>"
      ]
     },
     "metadata": {},
     "output_type": "display_data"
    }
   ],
   "source": [
    "df.groupby(['channel_sub', 'month'])['finalized'].sum().unstack(0).plot()"
   ]
  },
  {
   "cell_type": "code",
   "execution_count": 20,
   "metadata": {},
   "outputs": [
    {
     "data": {
      "text/html": [
       "<div>\n",
       "<style scoped>\n",
       "    .dataframe tbody tr th:only-of-type {\n",
       "        vertical-align: middle;\n",
       "    }\n",
       "\n",
       "    .dataframe tbody tr th {\n",
       "        vertical-align: top;\n",
       "    }\n",
       "\n",
       "    .dataframe thead th {\n",
       "        text-align: right;\n",
       "    }\n",
       "</style>\n",
       "<table border=\"1\" class=\"dataframe\">\n",
       "  <thead>\n",
       "    <tr style=\"text-align: right;\">\n",
       "      <th></th>\n",
       "      <th></th>\n",
       "      <th>month</th>\n",
       "      <th>201801</th>\n",
       "      <th>201802</th>\n",
       "      <th>201803</th>\n",
       "      <th>201804</th>\n",
       "      <th>201805</th>\n",
       "    </tr>\n",
       "    <tr>\n",
       "      <th>channel</th>\n",
       "      <th>channel_sub</th>\n",
       "      <th></th>\n",
       "      <th></th>\n",
       "      <th></th>\n",
       "      <th></th>\n",
       "      <th></th>\n",
       "      <th></th>\n",
       "    </tr>\n",
       "  </thead>\n",
       "  <tbody>\n",
       "    <tr>\n",
       "      <th rowspan=\"4\" valign=\"top\">OSS</th>\n",
       "      <th rowspan=\"2\" valign=\"top\">Direct</th>\n",
       "      <th>finalized</th>\n",
       "      <td>17,636</td>\n",
       "      <td>21,175</td>\n",
       "      <td>20,809</td>\n",
       "      <td>16,393</td>\n",
       "      <td>21,638</td>\n",
       "    </tr>\n",
       "    <tr>\n",
       "      <th>appr_new</th>\n",
       "      <td>6,582</td>\n",
       "      <td>7,912</td>\n",
       "      <td>7,620</td>\n",
       "      <td>6,027</td>\n",
       "      <td>8,402</td>\n",
       "    </tr>\n",
       "    <tr>\n",
       "      <th rowspan=\"2\" valign=\"top\">OSS_Tele</th>\n",
       "      <th>finalized</th>\n",
       "      <td>1,184</td>\n",
       "      <td>1,275</td>\n",
       "      <td>1,158</td>\n",
       "      <td>1,495</td>\n",
       "      <td>1,744</td>\n",
       "    </tr>\n",
       "    <tr>\n",
       "      <th>appr_new</th>\n",
       "      <td>530</td>\n",
       "      <td>496</td>\n",
       "      <td>459</td>\n",
       "      <td>607</td>\n",
       "      <td>790</td>\n",
       "    </tr>\n",
       "    <tr>\n",
       "      <th rowspan=\"2\" valign=\"top\">Tele</th>\n",
       "      <th rowspan=\"2\" valign=\"top\">Telesales</th>\n",
       "      <th>finalized</th>\n",
       "      <td>3,677</td>\n",
       "      <td>4,752</td>\n",
       "      <td>5,913</td>\n",
       "      <td>4,476</td>\n",
       "      <td>6,444</td>\n",
       "    </tr>\n",
       "    <tr>\n",
       "      <th>appr_new</th>\n",
       "      <td>1,472</td>\n",
       "      <td>1,544</td>\n",
       "      <td>1,931</td>\n",
       "      <td>1,538</td>\n",
       "      <td>2,124</td>\n",
       "    </tr>\n",
       "  </tbody>\n",
       "</table>\n",
       "</div>"
      ],
      "text/plain": [
       "month                          201801  201802  201803  201804  201805\n",
       "channel channel_sub                                                  \n",
       "OSS     Direct      finalized  17,636  21,175  20,809  16,393  21,638\n",
       "                    appr_new    6,582   7,912   7,620   6,027   8,402\n",
       "        OSS_Tele    finalized   1,184   1,275   1,158   1,495   1,744\n",
       "                    appr_new      530     496     459     607     790\n",
       "Tele    Telesales   finalized   3,677   4,752   5,913   4,476   6,444\n",
       "                    appr_new    1,472   1,544   1,931   1,538   2,124"
      ]
     },
     "execution_count": 20,
     "metadata": {},
     "output_type": "execute_result"
    }
   ],
   "source": [
    "df_gr[['finalized', 'appr_new']].sum().stack().unstack(0).applymap(\"{:,d}\".format)"
   ]
  },
  {
   "cell_type": "code",
   "execution_count": 21,
   "metadata": {},
   "outputs": [
    {
     "data": {
      "text/html": [
       "<style  type=\"text/css\" >\n",
       "</style>  \n",
       "<table id=\"T_6b76b84a_8a75_11e8_b748_2c600cf4e60e\" > \n",
       "<thead>    <tr> \n",
       "        <th class=\"blank level0\" ></th> \n",
       "        <th class=\"col_heading level0 col0\" >month</th> \n",
       "        <th class=\"col_heading level0 col1\" >channel</th> \n",
       "        <th class=\"col_heading level0 col2\" >channel_sub</th> \n",
       "        <th class=\"col_heading level0 col3\" >finalized</th> \n",
       "        <th class=\"col_heading level0 col4\" >appr</th> \n",
       "        <th class=\"col_heading level0 col5\" >appr_new</th> \n",
       "        <th class=\"col_heading level0 col6\" >per_apr</th> \n",
       "    </tr></thead> \n",
       "<tbody>    <tr> \n",
       "        <th id=\"T_6b76b84a_8a75_11e8_b748_2c600cf4e60elevel0_row0\" class=\"row_heading level0 row0\" >0</th> \n",
       "        <td id=\"T_6b76b84a_8a75_11e8_b748_2c600cf4e60erow0_col0\" class=\"data row0 col0\" >201801</td> \n",
       "        <td id=\"T_6b76b84a_8a75_11e8_b748_2c600cf4e60erow0_col1\" class=\"data row0 col1\" >OSS</td> \n",
       "        <td id=\"T_6b76b84a_8a75_11e8_b748_2c600cf4e60erow0_col2\" class=\"data row0 col2\" >Direct</td> \n",
       "        <td id=\"T_6b76b84a_8a75_11e8_b748_2c600cf4e60erow0_col3\" class=\"data row0 col3\" >17,636</td> \n",
       "        <td id=\"T_6b76b84a_8a75_11e8_b748_2c600cf4e60erow0_col4\" class=\"data row0 col4\" >7,300</td> \n",
       "        <td id=\"T_6b76b84a_8a75_11e8_b748_2c600cf4e60erow0_col5\" class=\"data row0 col5\" >6,582</td> \n",
       "        <td id=\"T_6b76b84a_8a75_11e8_b748_2c600cf4e60erow0_col6\" class=\"data row0 col6\" >37%</td> \n",
       "    </tr>    <tr> \n",
       "        <th id=\"T_6b76b84a_8a75_11e8_b748_2c600cf4e60elevel0_row1\" class=\"row_heading level0 row1\" >1</th> \n",
       "        <td id=\"T_6b76b84a_8a75_11e8_b748_2c600cf4e60erow1_col0\" class=\"data row1 col0\" >201801</td> \n",
       "        <td id=\"T_6b76b84a_8a75_11e8_b748_2c600cf4e60erow1_col1\" class=\"data row1 col1\" >OSS</td> \n",
       "        <td id=\"T_6b76b84a_8a75_11e8_b748_2c600cf4e60erow1_col2\" class=\"data row1 col2\" >OSS_Tele</td> \n",
       "        <td id=\"T_6b76b84a_8a75_11e8_b748_2c600cf4e60erow1_col3\" class=\"data row1 col3\" >1,184</td> \n",
       "        <td id=\"T_6b76b84a_8a75_11e8_b748_2c600cf4e60erow1_col4\" class=\"data row1 col4\" >546</td> \n",
       "        <td id=\"T_6b76b84a_8a75_11e8_b748_2c600cf4e60erow1_col5\" class=\"data row1 col5\" >530</td> \n",
       "        <td id=\"T_6b76b84a_8a75_11e8_b748_2c600cf4e60erow1_col6\" class=\"data row1 col6\" >45%</td> \n",
       "    </tr>    <tr> \n",
       "        <th id=\"T_6b76b84a_8a75_11e8_b748_2c600cf4e60elevel0_row2\" class=\"row_heading level0 row2\" >2</th> \n",
       "        <td id=\"T_6b76b84a_8a75_11e8_b748_2c600cf4e60erow2_col0\" class=\"data row2 col0\" >201801</td> \n",
       "        <td id=\"T_6b76b84a_8a75_11e8_b748_2c600cf4e60erow2_col1\" class=\"data row2 col1\" >Tele</td> \n",
       "        <td id=\"T_6b76b84a_8a75_11e8_b748_2c600cf4e60erow2_col2\" class=\"data row2 col2\" >Telesales</td> \n",
       "        <td id=\"T_6b76b84a_8a75_11e8_b748_2c600cf4e60erow2_col3\" class=\"data row2 col3\" >3,677</td> \n",
       "        <td id=\"T_6b76b84a_8a75_11e8_b748_2c600cf4e60erow2_col4\" class=\"data row2 col4\" >1,568</td> \n",
       "        <td id=\"T_6b76b84a_8a75_11e8_b748_2c600cf4e60erow2_col5\" class=\"data row2 col5\" >1,472</td> \n",
       "        <td id=\"T_6b76b84a_8a75_11e8_b748_2c600cf4e60erow2_col6\" class=\"data row2 col6\" >40%</td> \n",
       "    </tr>    <tr> \n",
       "        <th id=\"T_6b76b84a_8a75_11e8_b748_2c600cf4e60elevel0_row3\" class=\"row_heading level0 row3\" >3</th> \n",
       "        <td id=\"T_6b76b84a_8a75_11e8_b748_2c600cf4e60erow3_col0\" class=\"data row3 col0\" >201802</td> \n",
       "        <td id=\"T_6b76b84a_8a75_11e8_b748_2c600cf4e60erow3_col1\" class=\"data row3 col1\" >OSS</td> \n",
       "        <td id=\"T_6b76b84a_8a75_11e8_b748_2c600cf4e60erow3_col2\" class=\"data row3 col2\" >Direct</td> \n",
       "        <td id=\"T_6b76b84a_8a75_11e8_b748_2c600cf4e60erow3_col3\" class=\"data row3 col3\" >21,175</td> \n",
       "        <td id=\"T_6b76b84a_8a75_11e8_b748_2c600cf4e60erow3_col4\" class=\"data row3 col4\" >8,883</td> \n",
       "        <td id=\"T_6b76b84a_8a75_11e8_b748_2c600cf4e60erow3_col5\" class=\"data row3 col5\" >7,912</td> \n",
       "        <td id=\"T_6b76b84a_8a75_11e8_b748_2c600cf4e60erow3_col6\" class=\"data row3 col6\" >37%</td> \n",
       "    </tr>    <tr> \n",
       "        <th id=\"T_6b76b84a_8a75_11e8_b748_2c600cf4e60elevel0_row4\" class=\"row_heading level0 row4\" >4</th> \n",
       "        <td id=\"T_6b76b84a_8a75_11e8_b748_2c600cf4e60erow4_col0\" class=\"data row4 col0\" >201802</td> \n",
       "        <td id=\"T_6b76b84a_8a75_11e8_b748_2c600cf4e60erow4_col1\" class=\"data row4 col1\" >OSS</td> \n",
       "        <td id=\"T_6b76b84a_8a75_11e8_b748_2c600cf4e60erow4_col2\" class=\"data row4 col2\" >OSS_Tele</td> \n",
       "        <td id=\"T_6b76b84a_8a75_11e8_b748_2c600cf4e60erow4_col3\" class=\"data row4 col3\" >1,275</td> \n",
       "        <td id=\"T_6b76b84a_8a75_11e8_b748_2c600cf4e60erow4_col4\" class=\"data row4 col4\" >512</td> \n",
       "        <td id=\"T_6b76b84a_8a75_11e8_b748_2c600cf4e60erow4_col5\" class=\"data row4 col5\" >496</td> \n",
       "        <td id=\"T_6b76b84a_8a75_11e8_b748_2c600cf4e60erow4_col6\" class=\"data row4 col6\" >39%</td> \n",
       "    </tr>    <tr> \n",
       "        <th id=\"T_6b76b84a_8a75_11e8_b748_2c600cf4e60elevel0_row5\" class=\"row_heading level0 row5\" >5</th> \n",
       "        <td id=\"T_6b76b84a_8a75_11e8_b748_2c600cf4e60erow5_col0\" class=\"data row5 col0\" >201802</td> \n",
       "        <td id=\"T_6b76b84a_8a75_11e8_b748_2c600cf4e60erow5_col1\" class=\"data row5 col1\" >Tele</td> \n",
       "        <td id=\"T_6b76b84a_8a75_11e8_b748_2c600cf4e60erow5_col2\" class=\"data row5 col2\" >Telesales</td> \n",
       "        <td id=\"T_6b76b84a_8a75_11e8_b748_2c600cf4e60erow5_col3\" class=\"data row5 col3\" >4,752</td> \n",
       "        <td id=\"T_6b76b84a_8a75_11e8_b748_2c600cf4e60erow5_col4\" class=\"data row5 col4\" >1,982</td> \n",
       "        <td id=\"T_6b76b84a_8a75_11e8_b748_2c600cf4e60erow5_col5\" class=\"data row5 col5\" >1,544</td> \n",
       "        <td id=\"T_6b76b84a_8a75_11e8_b748_2c600cf4e60erow5_col6\" class=\"data row5 col6\" >32%</td> \n",
       "    </tr>    <tr> \n",
       "        <th id=\"T_6b76b84a_8a75_11e8_b748_2c600cf4e60elevel0_row6\" class=\"row_heading level0 row6\" >6</th> \n",
       "        <td id=\"T_6b76b84a_8a75_11e8_b748_2c600cf4e60erow6_col0\" class=\"data row6 col0\" >201803</td> \n",
       "        <td id=\"T_6b76b84a_8a75_11e8_b748_2c600cf4e60erow6_col1\" class=\"data row6 col1\" >OSS</td> \n",
       "        <td id=\"T_6b76b84a_8a75_11e8_b748_2c600cf4e60erow6_col2\" class=\"data row6 col2\" >Direct</td> \n",
       "        <td id=\"T_6b76b84a_8a75_11e8_b748_2c600cf4e60erow6_col3\" class=\"data row6 col3\" >20,809</td> \n",
       "        <td id=\"T_6b76b84a_8a75_11e8_b748_2c600cf4e60erow6_col4\" class=\"data row6 col4\" >8,400</td> \n",
       "        <td id=\"T_6b76b84a_8a75_11e8_b748_2c600cf4e60erow6_col5\" class=\"data row6 col5\" >7,620</td> \n",
       "        <td id=\"T_6b76b84a_8a75_11e8_b748_2c600cf4e60erow6_col6\" class=\"data row6 col6\" >37%</td> \n",
       "    </tr>    <tr> \n",
       "        <th id=\"T_6b76b84a_8a75_11e8_b748_2c600cf4e60elevel0_row7\" class=\"row_heading level0 row7\" >7</th> \n",
       "        <td id=\"T_6b76b84a_8a75_11e8_b748_2c600cf4e60erow7_col0\" class=\"data row7 col0\" >201803</td> \n",
       "        <td id=\"T_6b76b84a_8a75_11e8_b748_2c600cf4e60erow7_col1\" class=\"data row7 col1\" >OSS</td> \n",
       "        <td id=\"T_6b76b84a_8a75_11e8_b748_2c600cf4e60erow7_col2\" class=\"data row7 col2\" >OSS_Tele</td> \n",
       "        <td id=\"T_6b76b84a_8a75_11e8_b748_2c600cf4e60erow7_col3\" class=\"data row7 col3\" >1,158</td> \n",
       "        <td id=\"T_6b76b84a_8a75_11e8_b748_2c600cf4e60erow7_col4\" class=\"data row7 col4\" >471</td> \n",
       "        <td id=\"T_6b76b84a_8a75_11e8_b748_2c600cf4e60erow7_col5\" class=\"data row7 col5\" >459</td> \n",
       "        <td id=\"T_6b76b84a_8a75_11e8_b748_2c600cf4e60erow7_col6\" class=\"data row7 col6\" >40%</td> \n",
       "    </tr>    <tr> \n",
       "        <th id=\"T_6b76b84a_8a75_11e8_b748_2c600cf4e60elevel0_row8\" class=\"row_heading level0 row8\" >8</th> \n",
       "        <td id=\"T_6b76b84a_8a75_11e8_b748_2c600cf4e60erow8_col0\" class=\"data row8 col0\" >201803</td> \n",
       "        <td id=\"T_6b76b84a_8a75_11e8_b748_2c600cf4e60erow8_col1\" class=\"data row8 col1\" >Tele</td> \n",
       "        <td id=\"T_6b76b84a_8a75_11e8_b748_2c600cf4e60erow8_col2\" class=\"data row8 col2\" >Telesales</td> \n",
       "        <td id=\"T_6b76b84a_8a75_11e8_b748_2c600cf4e60erow8_col3\" class=\"data row8 col3\" >5,913</td> \n",
       "        <td id=\"T_6b76b84a_8a75_11e8_b748_2c600cf4e60erow8_col4\" class=\"data row8 col4\" >2,416</td> \n",
       "        <td id=\"T_6b76b84a_8a75_11e8_b748_2c600cf4e60erow8_col5\" class=\"data row8 col5\" >1,931</td> \n",
       "        <td id=\"T_6b76b84a_8a75_11e8_b748_2c600cf4e60erow8_col6\" class=\"data row8 col6\" >33%</td> \n",
       "    </tr>    <tr> \n",
       "        <th id=\"T_6b76b84a_8a75_11e8_b748_2c600cf4e60elevel0_row9\" class=\"row_heading level0 row9\" >9</th> \n",
       "        <td id=\"T_6b76b84a_8a75_11e8_b748_2c600cf4e60erow9_col0\" class=\"data row9 col0\" >201804</td> \n",
       "        <td id=\"T_6b76b84a_8a75_11e8_b748_2c600cf4e60erow9_col1\" class=\"data row9 col1\" >OSS</td> \n",
       "        <td id=\"T_6b76b84a_8a75_11e8_b748_2c600cf4e60erow9_col2\" class=\"data row9 col2\" >Direct</td> \n",
       "        <td id=\"T_6b76b84a_8a75_11e8_b748_2c600cf4e60erow9_col3\" class=\"data row9 col3\" >16,393</td> \n",
       "        <td id=\"T_6b76b84a_8a75_11e8_b748_2c600cf4e60erow9_col4\" class=\"data row9 col4\" >6,918</td> \n",
       "        <td id=\"T_6b76b84a_8a75_11e8_b748_2c600cf4e60erow9_col5\" class=\"data row9 col5\" >6,027</td> \n",
       "        <td id=\"T_6b76b84a_8a75_11e8_b748_2c600cf4e60erow9_col6\" class=\"data row9 col6\" >37%</td> \n",
       "    </tr>    <tr> \n",
       "        <th id=\"T_6b76b84a_8a75_11e8_b748_2c600cf4e60elevel0_row10\" class=\"row_heading level0 row10\" >10</th> \n",
       "        <td id=\"T_6b76b84a_8a75_11e8_b748_2c600cf4e60erow10_col0\" class=\"data row10 col0\" >201804</td> \n",
       "        <td id=\"T_6b76b84a_8a75_11e8_b748_2c600cf4e60erow10_col1\" class=\"data row10 col1\" >OSS</td> \n",
       "        <td id=\"T_6b76b84a_8a75_11e8_b748_2c600cf4e60erow10_col2\" class=\"data row10 col2\" >OSS_Tele</td> \n",
       "        <td id=\"T_6b76b84a_8a75_11e8_b748_2c600cf4e60erow10_col3\" class=\"data row10 col3\" >1,495</td> \n",
       "        <td id=\"T_6b76b84a_8a75_11e8_b748_2c600cf4e60erow10_col4\" class=\"data row10 col4\" >634</td> \n",
       "        <td id=\"T_6b76b84a_8a75_11e8_b748_2c600cf4e60erow10_col5\" class=\"data row10 col5\" >607</td> \n",
       "        <td id=\"T_6b76b84a_8a75_11e8_b748_2c600cf4e60erow10_col6\" class=\"data row10 col6\" >41%</td> \n",
       "    </tr>    <tr> \n",
       "        <th id=\"T_6b76b84a_8a75_11e8_b748_2c600cf4e60elevel0_row11\" class=\"row_heading level0 row11\" >11</th> \n",
       "        <td id=\"T_6b76b84a_8a75_11e8_b748_2c600cf4e60erow11_col0\" class=\"data row11 col0\" >201804</td> \n",
       "        <td id=\"T_6b76b84a_8a75_11e8_b748_2c600cf4e60erow11_col1\" class=\"data row11 col1\" >Tele</td> \n",
       "        <td id=\"T_6b76b84a_8a75_11e8_b748_2c600cf4e60erow11_col2\" class=\"data row11 col2\" >Telesales</td> \n",
       "        <td id=\"T_6b76b84a_8a75_11e8_b748_2c600cf4e60erow11_col3\" class=\"data row11 col3\" >4,476</td> \n",
       "        <td id=\"T_6b76b84a_8a75_11e8_b748_2c600cf4e60erow11_col4\" class=\"data row11 col4\" >1,642</td> \n",
       "        <td id=\"T_6b76b84a_8a75_11e8_b748_2c600cf4e60erow11_col5\" class=\"data row11 col5\" >1,538</td> \n",
       "        <td id=\"T_6b76b84a_8a75_11e8_b748_2c600cf4e60erow11_col6\" class=\"data row11 col6\" >34%</td> \n",
       "    </tr>    <tr> \n",
       "        <th id=\"T_6b76b84a_8a75_11e8_b748_2c600cf4e60elevel0_row12\" class=\"row_heading level0 row12\" >12</th> \n",
       "        <td id=\"T_6b76b84a_8a75_11e8_b748_2c600cf4e60erow12_col0\" class=\"data row12 col0\" >201805</td> \n",
       "        <td id=\"T_6b76b84a_8a75_11e8_b748_2c600cf4e60erow12_col1\" class=\"data row12 col1\" >OSS</td> \n",
       "        <td id=\"T_6b76b84a_8a75_11e8_b748_2c600cf4e60erow12_col2\" class=\"data row12 col2\" >Direct</td> \n",
       "        <td id=\"T_6b76b84a_8a75_11e8_b748_2c600cf4e60erow12_col3\" class=\"data row12 col3\" >21,638</td> \n",
       "        <td id=\"T_6b76b84a_8a75_11e8_b748_2c600cf4e60erow12_col4\" class=\"data row12 col4\" >9,628</td> \n",
       "        <td id=\"T_6b76b84a_8a75_11e8_b748_2c600cf4e60erow12_col5\" class=\"data row12 col5\" >8,402</td> \n",
       "        <td id=\"T_6b76b84a_8a75_11e8_b748_2c600cf4e60erow12_col6\" class=\"data row12 col6\" >39%</td> \n",
       "    </tr>    <tr> \n",
       "        <th id=\"T_6b76b84a_8a75_11e8_b748_2c600cf4e60elevel0_row13\" class=\"row_heading level0 row13\" >13</th> \n",
       "        <td id=\"T_6b76b84a_8a75_11e8_b748_2c600cf4e60erow13_col0\" class=\"data row13 col0\" >201805</td> \n",
       "        <td id=\"T_6b76b84a_8a75_11e8_b748_2c600cf4e60erow13_col1\" class=\"data row13 col1\" >OSS</td> \n",
       "        <td id=\"T_6b76b84a_8a75_11e8_b748_2c600cf4e60erow13_col2\" class=\"data row13 col2\" >OSS_Tele</td> \n",
       "        <td id=\"T_6b76b84a_8a75_11e8_b748_2c600cf4e60erow13_col3\" class=\"data row13 col3\" >1,744</td> \n",
       "        <td id=\"T_6b76b84a_8a75_11e8_b748_2c600cf4e60erow13_col4\" class=\"data row13 col4\" >902</td> \n",
       "        <td id=\"T_6b76b84a_8a75_11e8_b748_2c600cf4e60erow13_col5\" class=\"data row13 col5\" >790</td> \n",
       "        <td id=\"T_6b76b84a_8a75_11e8_b748_2c600cf4e60erow13_col6\" class=\"data row13 col6\" >45%</td> \n",
       "    </tr>    <tr> \n",
       "        <th id=\"T_6b76b84a_8a75_11e8_b748_2c600cf4e60elevel0_row14\" class=\"row_heading level0 row14\" >14</th> \n",
       "        <td id=\"T_6b76b84a_8a75_11e8_b748_2c600cf4e60erow14_col0\" class=\"data row14 col0\" >201805</td> \n",
       "        <td id=\"T_6b76b84a_8a75_11e8_b748_2c600cf4e60erow14_col1\" class=\"data row14 col1\" >Tele</td> \n",
       "        <td id=\"T_6b76b84a_8a75_11e8_b748_2c600cf4e60erow14_col2\" class=\"data row14 col2\" >Telesales</td> \n",
       "        <td id=\"T_6b76b84a_8a75_11e8_b748_2c600cf4e60erow14_col3\" class=\"data row14 col3\" >6,444</td> \n",
       "        <td id=\"T_6b76b84a_8a75_11e8_b748_2c600cf4e60erow14_col4\" class=\"data row14 col4\" >2,250</td> \n",
       "        <td id=\"T_6b76b84a_8a75_11e8_b748_2c600cf4e60erow14_col5\" class=\"data row14 col5\" >2,124</td> \n",
       "        <td id=\"T_6b76b84a_8a75_11e8_b748_2c600cf4e60erow14_col6\" class=\"data row14 col6\" >33%</td> \n",
       "    </tr></tbody> \n",
       "</table> "
      ],
      "text/plain": [
       "<pandas.io.formats.style.Styler at 0x145845d0>"
      ]
     },
     "execution_count": 21,
     "metadata": {},
     "output_type": "execute_result"
    }
   ],
   "source": [
    "# group by , sum, reset MultiIndex -> DataFrame\n",
    "i = df_gr[['finalized', 'appr', 'appr_new']].sum().reset_index()\n",
    "# create per apr from appr_new / finalzied\n",
    "i['per_apr'] = (i['appr_new']/i['finalized'])\n",
    "# Set style\n",
    "i.style.format({'finalized':\"{:,.0f}\", 'appr':\"{:,.0f}\", 'appr_new':\"{:,.0f}\"}).format({'per_apr':\"{:,.0%}\"})"
   ]
  },
  {
   "cell_type": "markdown",
   "metadata": {},
   "source": [
    "### Top Reason\n",
    "#### OSS - top 5 Decline"
   ]
  },
  {
   "cell_type": "code",
   "execution_count": 22,
   "metadata": {},
   "outputs": [],
   "source": [
    "# Filter only result == 'R' and channel == 'OSS'\n",
    "# then group by month, result_description\n",
    "# then size() \n",
    "# then reset MultiIndex to DataFrame\n",
    "decline = (df[(df.result == 'R') & (df.channel == 'OSS')]\n",
    "           .groupby(['month','result_description'])['finalized']\n",
    "           .size().reset_index())"
   ]
  },
  {
   "cell_type": "code",
   "execution_count": 23,
   "metadata": {},
   "outputs": [],
   "source": [
    "# create column rn = sort by finalized, decending order\n",
    "# group by month, create rn (row_number) by cumcount()  +1\n",
    "# query only rn (row_number) <= 5 (top 5)\n",
    "# sort Dataframe by 'month and rn'\n",
    "\n",
    "top_decline = (decline.assign(rn = decline.sort_values(['finalized'], ascending=False)\n",
    "               .groupby(['month']).cumcount() + 1)\n",
    "               .query('rn <= 5')\n",
    "               .sort_values(['month', 'rn']))"
   ]
  },
  {
   "cell_type": "code",
   "execution_count": 24,
   "metadata": {},
   "outputs": [
    {
     "data": {
      "text/html": [
       "<div>\n",
       "<style scoped>\n",
       "    .dataframe tbody tr th:only-of-type {\n",
       "        vertical-align: middle;\n",
       "    }\n",
       "\n",
       "    .dataframe tbody tr th {\n",
       "        vertical-align: top;\n",
       "    }\n",
       "\n",
       "    .dataframe thead th {\n",
       "        text-align: right;\n",
       "    }\n",
       "</style>\n",
       "<table border=\"1\" class=\"dataframe\">\n",
       "  <thead>\n",
       "    <tr style=\"text-align: right;\">\n",
       "      <th>month</th>\n",
       "      <th>201801</th>\n",
       "      <th>201802</th>\n",
       "      <th>201803</th>\n",
       "      <th>201804</th>\n",
       "      <th>201805</th>\n",
       "    </tr>\n",
       "    <tr>\n",
       "      <th>result_description</th>\n",
       "      <th></th>\n",
       "      <th></th>\n",
       "      <th></th>\n",
       "      <th></th>\n",
       "      <th></th>\n",
       "    </tr>\n",
       "  </thead>\n",
       "  <tbody>\n",
       "    <tr>\n",
       "      <th>D24</th>\n",
       "      <td>3115</td>\n",
       "      <td>3483</td>\n",
       "      <td>3554</td>\n",
       "      <td>2712</td>\n",
       "      <td>3521</td>\n",
       "    </tr>\n",
       "    <tr>\n",
       "      <th>D09</th>\n",
       "      <td>1403</td>\n",
       "      <td>1705</td>\n",
       "      <td>1780</td>\n",
       "      <td>1237</td>\n",
       "      <td>1681</td>\n",
       "    </tr>\n",
       "    <tr>\n",
       "      <th>D11</th>\n",
       "      <td>1780</td>\n",
       "      <td>1956</td>\n",
       "      <td>1509</td>\n",
       "      <td>1205</td>\n",
       "      <td>1504</td>\n",
       "    </tr>\n",
       "    <tr>\n",
       "      <th>D01</th>\n",
       "      <td>667</td>\n",
       "      <td>904</td>\n",
       "      <td>1075</td>\n",
       "      <td>766</td>\n",
       "      <td>974</td>\n",
       "    </tr>\n",
       "    <tr>\n",
       "      <th>D30</th>\n",
       "      <td>641</td>\n",
       "      <td>749</td>\n",
       "      <td>834</td>\n",
       "      <td>664</td>\n",
       "      <td>806</td>\n",
       "    </tr>\n",
       "  </tbody>\n",
       "</table>\n",
       "</div>"
      ],
      "text/plain": [
       "month               201801  201802  201803  201804  201805\n",
       "result_description                                        \n",
       "D24                   3115    3483    3554    2712    3521\n",
       "D09                   1403    1705    1780    1237    1681\n",
       "D11                   1780    1956    1509    1205    1504\n",
       "D01                    667     904    1075     766     974\n",
       "D30                    641     749     834     664     806"
      ]
     },
     "execution_count": 24,
     "metadata": {},
     "output_type": "execute_result"
    }
   ],
   "source": [
    "# transform DataFrame to MultiIndex with pivot, sort by values in 201805\n",
    "top_decline.pivot(index='result_description', columns='month', values='finalized').sort_values('201805', ascending = False)"
   ]
  },
  {
   "cell_type": "markdown",
   "metadata": {},
   "source": [
    "Another way of creating top decline"
   ]
  },
  {
   "cell_type": "code",
   "execution_count": 25,
   "metadata": {},
   "outputs": [
    {
     "data": {
      "text/html": [
       "<div>\n",
       "<style scoped>\n",
       "    .dataframe tbody tr th:only-of-type {\n",
       "        vertical-align: middle;\n",
       "    }\n",
       "\n",
       "    .dataframe tbody tr th {\n",
       "        vertical-align: top;\n",
       "    }\n",
       "\n",
       "    .dataframe thead th {\n",
       "        text-align: right;\n",
       "    }\n",
       "</style>\n",
       "<table border=\"1\" class=\"dataframe\">\n",
       "  <thead>\n",
       "    <tr style=\"text-align: right;\">\n",
       "      <th>month</th>\n",
       "      <th>201801</th>\n",
       "      <th>201802</th>\n",
       "      <th>201803</th>\n",
       "      <th>201804</th>\n",
       "      <th>201805</th>\n",
       "    </tr>\n",
       "    <tr>\n",
       "      <th>result_description</th>\n",
       "      <th></th>\n",
       "      <th></th>\n",
       "      <th></th>\n",
       "      <th></th>\n",
       "      <th></th>\n",
       "    </tr>\n",
       "  </thead>\n",
       "  <tbody>\n",
       "    <tr>\n",
       "      <th>D24</th>\n",
       "      <td>3115.0</td>\n",
       "      <td>3483.0</td>\n",
       "      <td>3554.0</td>\n",
       "      <td>2712.0</td>\n",
       "      <td>3521.0</td>\n",
       "    </tr>\n",
       "    <tr>\n",
       "      <th>D09</th>\n",
       "      <td>1403.0</td>\n",
       "      <td>1705.0</td>\n",
       "      <td>1780.0</td>\n",
       "      <td>1237.0</td>\n",
       "      <td>1681.0</td>\n",
       "    </tr>\n",
       "    <tr>\n",
       "      <th>D11</th>\n",
       "      <td>1780.0</td>\n",
       "      <td>1956.0</td>\n",
       "      <td>1509.0</td>\n",
       "      <td>1205.0</td>\n",
       "      <td>1504.0</td>\n",
       "    </tr>\n",
       "    <tr>\n",
       "      <th>D01</th>\n",
       "      <td>667.0</td>\n",
       "      <td>904.0</td>\n",
       "      <td>1075.0</td>\n",
       "      <td>766.0</td>\n",
       "      <td>974.0</td>\n",
       "    </tr>\n",
       "    <tr>\n",
       "      <th>D30</th>\n",
       "      <td>641.0</td>\n",
       "      <td>749.0</td>\n",
       "      <td>834.0</td>\n",
       "      <td>664.0</td>\n",
       "      <td>806.0</td>\n",
       "    </tr>\n",
       "  </tbody>\n",
       "</table>\n",
       "</div>"
      ],
      "text/plain": [
       "month               201801  201802  201803  201804  201805\n",
       "result_description                                        \n",
       "D24                 3115.0  3483.0  3554.0  2712.0  3521.0\n",
       "D09                 1403.0  1705.0  1780.0  1237.0  1681.0\n",
       "D11                 1780.0  1956.0  1509.0  1205.0  1504.0\n",
       "D01                  667.0   904.0  1075.0   766.0   974.0\n",
       "D30                  641.0   749.0   834.0   664.0   806.0"
      ]
     },
     "execution_count": 25,
     "metadata": {},
     "output_type": "execute_result"
    }
   ],
   "source": [
    "(df.query('result == \"R\" and channel == \"OSS\"')\n",
    " .groupby(['month', 'result_description'])\n",
    " .size().unstack(0).sort_values('201805', ascending = False).head(5))"
   ]
  },
  {
   "cell_type": "markdown",
   "metadata": {},
   "source": [
    "OSS - % top 5 decline"
   ]
  },
  {
   "cell_type": "code",
   "execution_count": 26,
   "metadata": {},
   "outputs": [
    {
     "data": {
      "text/html": [
       "<div>\n",
       "<style scoped>\n",
       "    .dataframe tbody tr th:only-of-type {\n",
       "        vertical-align: middle;\n",
       "    }\n",
       "\n",
       "    .dataframe tbody tr th {\n",
       "        vertical-align: top;\n",
       "    }\n",
       "\n",
       "    .dataframe thead th {\n",
       "        text-align: right;\n",
       "    }\n",
       "</style>\n",
       "<table border=\"1\" class=\"dataframe\">\n",
       "  <thead>\n",
       "    <tr style=\"text-align: right;\">\n",
       "      <th>month</th>\n",
       "      <th>201801</th>\n",
       "      <th>201802</th>\n",
       "      <th>201803</th>\n",
       "      <th>201804</th>\n",
       "      <th>201805</th>\n",
       "    </tr>\n",
       "    <tr>\n",
       "      <th>result_description</th>\n",
       "      <th></th>\n",
       "      <th></th>\n",
       "      <th></th>\n",
       "      <th></th>\n",
       "      <th></th>\n",
       "    </tr>\n",
       "  </thead>\n",
       "  <tbody>\n",
       "    <tr>\n",
       "      <th>D24</th>\n",
       "      <td>14%</td>\n",
       "      <td>13%</td>\n",
       "      <td>13%</td>\n",
       "      <td>12%</td>\n",
       "      <td>12%</td>\n",
       "    </tr>\n",
       "    <tr>\n",
       "      <th>D09</th>\n",
       "      <td>6%</td>\n",
       "      <td>6%</td>\n",
       "      <td>6%</td>\n",
       "      <td>6%</td>\n",
       "      <td>6%</td>\n",
       "    </tr>\n",
       "    <tr>\n",
       "      <th>D11</th>\n",
       "      <td>8%</td>\n",
       "      <td>7%</td>\n",
       "      <td>5%</td>\n",
       "      <td>5%</td>\n",
       "      <td>5%</td>\n",
       "    </tr>\n",
       "    <tr>\n",
       "      <th>D01</th>\n",
       "      <td>3%</td>\n",
       "      <td>3%</td>\n",
       "      <td>4%</td>\n",
       "      <td>3%</td>\n",
       "      <td>3%</td>\n",
       "    </tr>\n",
       "    <tr>\n",
       "      <th>D30</th>\n",
       "      <td>3%</td>\n",
       "      <td>3%</td>\n",
       "      <td>3%</td>\n",
       "      <td>3%</td>\n",
       "      <td>3%</td>\n",
       "    </tr>\n",
       "  </tbody>\n",
       "</table>\n",
       "</div>"
      ],
      "text/plain": [
       "month              201801 201802 201803 201804 201805\n",
       "result_description                                   \n",
       "D24                   14%    13%    13%    12%    12%\n",
       "D09                    6%     6%     6%     6%     6%\n",
       "D11                    8%     7%     5%     5%     5%\n",
       "D01                    3%     3%     4%     3%     3%\n",
       "D30                    3%     3%     3%     3%     3%"
      ]
     },
     "execution_count": 26,
     "metadata": {},
     "output_type": "execute_result"
    }
   ],
   "source": [
    "# Series of top decline by month and reason\n",
    "decline = (df.query('result == \"R\" and channel == \"OSS\"')\n",
    " .groupby(['month', 'result_description'])\n",
    " .size())\n",
    "\n",
    "# Series of finalized by month\n",
    "finalized = (df.groupby('month').size())\n",
    "\n",
    "# Series of top decline by month and reason / series of finalized by month, matching by month\n",
    "(decline.div(finalized, level='month')\n",
    " .unstack(0)\n",
    " .sort_values('201805', ascending = False)\n",
    " .applymap(\"{:,.0%}\".format).head(5))"
   ]
  },
  {
   "cell_type": "markdown",
   "metadata": {},
   "source": [
    "Oss - Top 5 cancel & % top 5 cancel"
   ]
  },
  {
   "cell_type": "code",
   "execution_count": 27,
   "metadata": {},
   "outputs": [
    {
     "data": {
      "text/html": [
       "<div>\n",
       "<style scoped>\n",
       "    .dataframe tbody tr th:only-of-type {\n",
       "        vertical-align: middle;\n",
       "    }\n",
       "\n",
       "    .dataframe tbody tr th {\n",
       "        vertical-align: top;\n",
       "    }\n",
       "\n",
       "    .dataframe thead th {\n",
       "        text-align: right;\n",
       "    }\n",
       "</style>\n",
       "<table border=\"1\" class=\"dataframe\">\n",
       "  <thead>\n",
       "    <tr style=\"text-align: right;\">\n",
       "      <th>month</th>\n",
       "      <th>201801</th>\n",
       "      <th>201802</th>\n",
       "      <th>201803</th>\n",
       "      <th>201804</th>\n",
       "      <th>201805</th>\n",
       "    </tr>\n",
       "    <tr>\n",
       "      <th>result_description</th>\n",
       "      <th></th>\n",
       "      <th></th>\n",
       "      <th></th>\n",
       "      <th></th>\n",
       "      <th></th>\n",
       "    </tr>\n",
       "  </thead>\n",
       "  <tbody>\n",
       "    <tr>\n",
       "      <th>C02</th>\n",
       "      <td>708</td>\n",
       "      <td>830</td>\n",
       "      <td>480</td>\n",
       "      <td>343</td>\n",
       "      <td>588</td>\n",
       "    </tr>\n",
       "    <tr>\n",
       "      <th>C04</th>\n",
       "      <td>402</td>\n",
       "      <td>547</td>\n",
       "      <td>486</td>\n",
       "      <td>423</td>\n",
       "      <td>528</td>\n",
       "    </tr>\n",
       "    <tr>\n",
       "      <th>C74</th>\n",
       "      <td>160</td>\n",
       "      <td>182</td>\n",
       "      <td>217</td>\n",
       "      <td>249</td>\n",
       "      <td>409</td>\n",
       "    </tr>\n",
       "    <tr>\n",
       "      <th>C01</th>\n",
       "      <td>224</td>\n",
       "      <td>213</td>\n",
       "      <td>253</td>\n",
       "      <td>274</td>\n",
       "      <td>358</td>\n",
       "    </tr>\n",
       "    <tr>\n",
       "      <th>C03</th>\n",
       "      <td>109</td>\n",
       "      <td>118</td>\n",
       "      <td>154</td>\n",
       "      <td>245</td>\n",
       "      <td>198</td>\n",
       "    </tr>\n",
       "  </tbody>\n",
       "</table>\n",
       "</div>"
      ],
      "text/plain": [
       "month              201801 201802 201803 201804 201805\n",
       "result_description                                   \n",
       "C02                   708    830    480    343    588\n",
       "C04                   402    547    486    423    528\n",
       "C74                   160    182    217    249    409\n",
       "C01                   224    213    253    274    358\n",
       "C03                   109    118    154    245    198"
      ]
     },
     "execution_count": 27,
     "metadata": {},
     "output_type": "execute_result"
    }
   ],
   "source": [
    "oss_cancel = (df.query('result == \"C\" and channel == \"OSS\"')\n",
    "              .groupby(['month', 'result_description']).size())\n",
    "oss_finaize = (df.query('channel == \"OSS\"').groupby('month').size())\n",
    "\n",
    "oss_cancel.unstack(0).sort_values('201805', ascending = False).head(5).applymap(\"{:,.0f}\".format)"
   ]
  },
  {
   "cell_type": "code",
   "execution_count": 28,
   "metadata": {},
   "outputs": [
    {
     "data": {
      "text/html": [
       "<div>\n",
       "<style scoped>\n",
       "    .dataframe tbody tr th:only-of-type {\n",
       "        vertical-align: middle;\n",
       "    }\n",
       "\n",
       "    .dataframe tbody tr th {\n",
       "        vertical-align: top;\n",
       "    }\n",
       "\n",
       "    .dataframe thead th {\n",
       "        text-align: right;\n",
       "    }\n",
       "</style>\n",
       "<table border=\"1\" class=\"dataframe\">\n",
       "  <thead>\n",
       "    <tr style=\"text-align: right;\">\n",
       "      <th>month</th>\n",
       "      <th>201801</th>\n",
       "      <th>201802</th>\n",
       "      <th>201803</th>\n",
       "      <th>201804</th>\n",
       "      <th>201805</th>\n",
       "    </tr>\n",
       "    <tr>\n",
       "      <th>result_description</th>\n",
       "      <th></th>\n",
       "      <th></th>\n",
       "      <th></th>\n",
       "      <th></th>\n",
       "      <th></th>\n",
       "    </tr>\n",
       "  </thead>\n",
       "  <tbody>\n",
       "    <tr>\n",
       "      <th>C02</th>\n",
       "      <td>4%</td>\n",
       "      <td>4%</td>\n",
       "      <td>2%</td>\n",
       "      <td>2%</td>\n",
       "      <td>3%</td>\n",
       "    </tr>\n",
       "    <tr>\n",
       "      <th>C04</th>\n",
       "      <td>2%</td>\n",
       "      <td>2%</td>\n",
       "      <td>2%</td>\n",
       "      <td>2%</td>\n",
       "      <td>2%</td>\n",
       "    </tr>\n",
       "    <tr>\n",
       "      <th>C74</th>\n",
       "      <td>1%</td>\n",
       "      <td>1%</td>\n",
       "      <td>1%</td>\n",
       "      <td>1%</td>\n",
       "      <td>2%</td>\n",
       "    </tr>\n",
       "    <tr>\n",
       "      <th>C01</th>\n",
       "      <td>1%</td>\n",
       "      <td>1%</td>\n",
       "      <td>1%</td>\n",
       "      <td>2%</td>\n",
       "      <td>2%</td>\n",
       "    </tr>\n",
       "    <tr>\n",
       "      <th>C03</th>\n",
       "      <td>1%</td>\n",
       "      <td>1%</td>\n",
       "      <td>1%</td>\n",
       "      <td>1%</td>\n",
       "      <td>1%</td>\n",
       "    </tr>\n",
       "  </tbody>\n",
       "</table>\n",
       "</div>"
      ],
      "text/plain": [
       "month              201801 201802 201803 201804 201805\n",
       "result_description                                   \n",
       "C02                    4%     4%     2%     2%     3%\n",
       "C04                    2%     2%     2%     2%     2%\n",
       "C74                    1%     1%     1%     1%     2%\n",
       "C01                    1%     1%     1%     2%     2%\n",
       "C03                    1%     1%     1%     1%     1%"
      ]
     },
     "execution_count": 28,
     "metadata": {},
     "output_type": "execute_result"
    }
   ],
   "source": [
    "(oss_cancel.div(oss_finaize, level = 'month').unstack(0).sort_values('201805', ascending = False)\n",
    " .head(5).applymap(\"{:,.0%}\".format))"
   ]
  },
  {
   "cell_type": "markdown",
   "metadata": {},
   "source": [
    "### Demographic group"
   ]
  },
  {
   "cell_type": "code",
   "execution_count": 29,
   "metadata": {},
   "outputs": [],
   "source": [
    "%matplotlib inline"
   ]
  },
  {
   "cell_type": "code",
   "execution_count": 30,
   "metadata": {},
   "outputs": [
    {
     "data": {
      "text/plain": [
       "month\n",
       "201801    AxesSubplot(0.125,0.125;0.775x0.755)\n",
       "201802    AxesSubplot(0.125,0.125;0.775x0.755)\n",
       "201803    AxesSubplot(0.125,0.125;0.775x0.755)\n",
       "201804    AxesSubplot(0.125,0.125;0.775x0.755)\n",
       "201805    AxesSubplot(0.125,0.125;0.775x0.755)\n",
       "Name: age, dtype: object"
      ]
     },
     "execution_count": 30,
     "metadata": {},
     "output_type": "execute_result"
    },
    {
     "data": {
      "image/png": "[encoded data removed]",
      "text/plain": [
       "<Figure size 432x288 with 1 Axes>"
      ]
     },
     "metadata": {},
     "output_type": "display_data"
    }
   ],
   "source": [
    "df.loc[df.age > 0].groupby('month')['age'].plot.density()"
   ]
  },
  {
   "cell_type": "code",
   "execution_count": 31,
   "metadata": {},
   "outputs": [
    {
     "data": {
      "text/html": [
       "<div>\n",
       "<style scoped>\n",
       "    .dataframe tbody tr th:only-of-type {\n",
       "        vertical-align: middle;\n",
       "    }\n",
       "\n",
       "    .dataframe tbody tr th {\n",
       "        vertical-align: top;\n",
       "    }\n",
       "\n",
       "    .dataframe thead th {\n",
       "        text-align: right;\n",
       "    }\n",
       "</style>\n",
       "<table border=\"1\" class=\"dataframe\">\n",
       "  <thead>\n",
       "    <tr style=\"text-align: right;\">\n",
       "      <th>channel</th>\n",
       "      <th>OSS</th>\n",
       "      <th>Tele</th>\n",
       "    </tr>\n",
       "    <tr>\n",
       "      <th>bkk_upc</th>\n",
       "      <th></th>\n",
       "      <th></th>\n",
       "    </tr>\n",
       "  </thead>\n",
       "  <tbody>\n",
       "    <tr>\n",
       "      <th>BKK</th>\n",
       "      <td>49922</td>\n",
       "      <td>14099</td>\n",
       "    </tr>\n",
       "    <tr>\n",
       "      <th>UPC</th>\n",
       "      <td>54544</td>\n",
       "      <td>11155</td>\n",
       "    </tr>\n",
       "  </tbody>\n",
       "</table>\n",
       "</div>"
      ],
      "text/plain": [
       "channel    OSS   Tele\n",
       "bkk_upc              \n",
       "BKK      49922  14099\n",
       "UPC      54544  11155"
      ]
     },
     "execution_count": 31,
     "metadata": {},
     "output_type": "execute_result"
    }
   ],
   "source": [
    "# use group by\n",
    "df.groupby(['channel','bkk_upc']).size().unstack(0)"
   ]
  },
  {
   "cell_type": "code",
   "execution_count": 32,
   "metadata": {},
   "outputs": [
    {
     "data": {
      "text/html": [
       "<div>\n",
       "<style scoped>\n",
       "    .dataframe tbody tr th:only-of-type {\n",
       "        vertical-align: middle;\n",
       "    }\n",
       "\n",
       "    .dataframe tbody tr th {\n",
       "        vertical-align: top;\n",
       "    }\n",
       "\n",
       "    .dataframe thead th {\n",
       "        text-align: right;\n",
       "    }\n",
       "</style>\n",
       "<table border=\"1\" class=\"dataframe\">\n",
       "  <thead>\n",
       "    <tr style=\"text-align: right;\">\n",
       "      <th>channel</th>\n",
       "      <th>OSS</th>\n",
       "      <th>Tele</th>\n",
       "    </tr>\n",
       "    <tr>\n",
       "      <th>bkk_upc</th>\n",
       "      <th></th>\n",
       "      <th></th>\n",
       "    </tr>\n",
       "  </thead>\n",
       "  <tbody>\n",
       "    <tr>\n",
       "      <th>BKK</th>\n",
       "      <td>49922</td>\n",
       "      <td>14099</td>\n",
       "    </tr>\n",
       "    <tr>\n",
       "      <th>UPC</th>\n",
       "      <td>54544</td>\n",
       "      <td>11155</td>\n",
       "    </tr>\n",
       "  </tbody>\n",
       "</table>\n",
       "</div>"
      ],
      "text/plain": [
       "channel    OSS   Tele\n",
       "bkk_upc              \n",
       "BKK      49922  14099\n",
       "UPC      54544  11155"
      ]
     },
     "execution_count": 32,
     "metadata": {},
     "output_type": "execute_result"
    }
   ],
   "source": [
    "# use cross tab\n",
    "pd.crosstab(df.bkk_upc, df.channel)"
   ]
  },
  {
   "cell_type": "code",
   "execution_count": 33,
   "metadata": {},
   "outputs": [
    {
     "data": {
      "text/plain": [
       "array([<matplotlib.axes._subplots.AxesSubplot object at 0x2C6C7590>,\n",
       "       <matplotlib.axes._subplots.AxesSubplot object at 0x2C8AE5B0>],\n",
       "      dtype=object)"
      ]
     },
     "execution_count": 33,
     "metadata": {},
     "output_type": "execute_result"
    },
    {
     "data": {
      "image/png": "[encoded data removed]",
      "text/plain": [
       "<Figure size 576x288 with 2 Axes>"
      ]
     },
     "metadata": {},
     "output_type": "display_data"
    }
   ],
   "source": [
    "%matplotlib inline\n",
    "df.groupby(['channel','bkk_upc']).size().unstack(0).plot.pie(subplots = True, figsize=(8,4))"
   ]
  },
  {
   "cell_type": "code",
   "execution_count": 34,
   "metadata": {},
   "outputs": [
    {
     "data": {
      "text/plain": [
       "array([<matplotlib.axes._subplots.AxesSubplot object at 0x2CCB0CB0>,\n",
       "       <matplotlib.axes._subplots.AxesSubplot object at 0x2CEA6AD0>,\n",
       "       <matplotlib.axes._subplots.AxesSubplot object at 0x2CFAFB90>,\n",
       "       <matplotlib.axes._subplots.AxesSubplot object at 0x2D17BC50>,\n",
       "       <matplotlib.axes._subplots.AxesSubplot object at 0x2D286D10>],\n",
       "      dtype=object)"
      ]
     },
     "execution_count": 34,
     "metadata": {},
     "output_type": "execute_result"
    },
    {
     "data": {
      "image/png": "[encoded data removed]",
      "text/plain": [
       "<Figure size 1440x288 with 5 Axes>"
      ]
     },
     "metadata": {},
     "output_type": "display_data"
    }
   ],
   "source": [
    "df.groupby(['channel','month','bkk_upc']).size().unstack([0,1])['OSS'].plot.pie(subplots = True, figsize=(20,4))"
   ]
  },
  {
   "cell_type": "code",
   "execution_count": 35,
   "metadata": {},
   "outputs": [
    {
     "data": {
      "text/plain": [
       "<matplotlib.axes._subplots.AxesSubplot at 0x2d6273f0>"
      ]
     },
     "execution_count": 35,
     "metadata": {},
     "output_type": "execute_result"
    },
    {
     "data": {
      "image/png": "[encoded data removed]",
      "text/plain": [
       "<Figure size 432x288 with 1 Axes>"
      ]
     },
     "metadata": {},
     "output_type": "display_data"
    }
   ],
   "source": [
    "df.groupby(['channel','month','bkk_upc']).size().unstack([0,2])['OSS'].plot.bar(stacked = True)"
   ]
  },
  {
   "cell_type": "markdown",
   "metadata": {},
   "source": [
    "### Statistical inference\n",
    "##### T-Test\n",
    "Non paired t-test pulled varience between average age last month vs last 2 month"
   ]
  },
  {
   "cell_type": "code",
   "execution_count": 36,
   "metadata": {},
   "outputs": [
    {
     "data": {
      "text/plain": [
       "month\n",
       "201801    33.452415\n",
       "201802    33.449354\n",
       "201803    33.254700\n",
       "201804    32.491335\n",
       "201805    32.431785\n",
       "Name: age, dtype: float64"
      ]
     },
     "execution_count": 36,
     "metadata": {},
     "output_type": "execute_result"
    }
   ],
   "source": [
    "# OSS avg age by month\n",
    "df.query('channel == \"OSS\" and age > 0').groupby('month')['age'].mean()"
   ]
  },
  {
   "cell_type": "code",
   "execution_count": 37,
   "metadata": {},
   "outputs": [
    {
     "data": {
      "text/plain": [
       "<matplotlib.axes._subplots.AxesSubplot at 0x2d91d950>"
      ]
     },
     "execution_count": 37,
     "metadata": {},
     "output_type": "execute_result"
    },
    {
     "data": {
      "image/png": "[encoded data removed]",
      "text/plain": [
       "<Figure size 432x288 with 1 Axes>"
      ]
     },
     "metadata": {},
     "output_type": "display_data"
    }
   ],
   "source": [
    "# boxplot Oss avg age by month\n",
    "df.query('channel == \"OSS\" and age > 0').boxplot(column='age', by='month')"
   ]
  },
  {
   "cell_type": "code",
   "execution_count": 38,
   "metadata": {},
   "outputs": [],
   "source": [
    "def last_2_month(df):\n",
    "    month_list = df.month.unique()\n",
    "    month_list.sort()\n",
    "    try:\n",
    "        return month_list[-1:-3:-1]  # list of last month and last 2 month\n",
    "    except:\n",
    "        print(\"Error \".format(month_list))\n",
    "        return None"
   ]
  },
  {
   "cell_type": "code",
   "execution_count": 39,
   "metadata": {},
   "outputs": [],
   "source": [
    "def t_test_last_mom(df, var):\n",
    "    # find last month and last 2 month\n",
    "    months = last_2_month(df)\n",
    "    \n",
    "    # Pair-wised t-test differenc in mean\n",
    "    var_last = df.loc[(df.channel == \"OSS\") & (df.month == months[0]), [var]]\n",
    "    var_last_2 = df.loc[(df.channel == \"OSS\") & (df.month == months[1]), [var]]\n",
    "    test = stats.ttest_ind(var_last, var_last_2)\n",
    "    \n",
    "    # print test result\n",
    "    print(\"{0} t-test month {1} with month {2}\".format(var, months[0], months[1]))\n",
    "    print(\"p-valus : {:.5f}\".format(test.pvalue[0]))\n",
    "    if test.pvalue[0] < 0.05:\n",
    "        print(\"reject H0, {0} significantly difference {1} and {2}\".format(var, months[0], months[1]))\n",
    "    else:\n",
    "        print(\"accept H0, {0} not significantly difference {1} and {2}\".format(var, months[0], months[1]))\n",
    "    return None"
   ]
  },
  {
   "cell_type": "code",
   "execution_count": 40,
   "metadata": {},
   "outputs": [
    {
     "name": "stdout",
     "output_type": "stream",
     "text": [
      "monthly_salary t-test month 201805 with month 201804\n",
      "p-valus : 0.02263\n",
      "reject H0, monthly_salary significantly difference 201805 and 201804\n"
     ]
    }
   ],
   "source": [
    "t_test_last_mom(df, \"monthly_salary\")"
   ]
  },
  {
   "cell_type": "markdown",
   "metadata": {},
   "source": [
    "##### Chisq-test\n",
    "Goodness to fit test top reject between last month whith last 2 month as base distribution"
   ]
  },
  {
   "cell_type": "code",
   "execution_count": 41,
   "metadata": {},
   "outputs": [],
   "source": [
    "# create cross tabulation data for calculation\n",
    "top5_decline_monthly = \\\n",
    "(df.query('channel == \"OSS\" and result == \"R\"')\n",
    " .groupby(['month', 'result_description']).size().unstack(0)\n",
    " .sort_values('201805', ascending = False).head(5).stack().unstack(0))"
   ]
  },
  {
   "cell_type": "code",
   "execution_count": 42,
   "metadata": {},
   "outputs": [
    {
     "data": {
      "text/html": [
       "<div>\n",
       "<style scoped>\n",
       "    .dataframe tbody tr th:only-of-type {\n",
       "        vertical-align: middle;\n",
       "    }\n",
       "\n",
       "    .dataframe tbody tr th {\n",
       "        vertical-align: top;\n",
       "    }\n",
       "\n",
       "    .dataframe thead th {\n",
       "        text-align: right;\n",
       "    }\n",
       "</style>\n",
       "<table border=\"1\" class=\"dataframe\">\n",
       "  <thead>\n",
       "    <tr style=\"text-align: right;\">\n",
       "      <th>result_description</th>\n",
       "      <th>D24</th>\n",
       "      <th>D09</th>\n",
       "      <th>D11</th>\n",
       "      <th>D01</th>\n",
       "      <th>D30</th>\n",
       "    </tr>\n",
       "    <tr>\n",
       "      <th>month</th>\n",
       "      <th></th>\n",
       "      <th></th>\n",
       "      <th></th>\n",
       "      <th></th>\n",
       "      <th></th>\n",
       "    </tr>\n",
       "  </thead>\n",
       "  <tbody>\n",
       "    <tr>\n",
       "      <th>201801</th>\n",
       "      <td>3115.0</td>\n",
       "      <td>1403.0</td>\n",
       "      <td>1780.0</td>\n",
       "      <td>667.0</td>\n",
       "      <td>641.0</td>\n",
       "    </tr>\n",
       "    <tr>\n",
       "      <th>201802</th>\n",
       "      <td>3483.0</td>\n",
       "      <td>1705.0</td>\n",
       "      <td>1956.0</td>\n",
       "      <td>904.0</td>\n",
       "      <td>749.0</td>\n",
       "    </tr>\n",
       "    <tr>\n",
       "      <th>201803</th>\n",
       "      <td>3554.0</td>\n",
       "      <td>1780.0</td>\n",
       "      <td>1509.0</td>\n",
       "      <td>1075.0</td>\n",
       "      <td>834.0</td>\n",
       "    </tr>\n",
       "    <tr>\n",
       "      <th>201804</th>\n",
       "      <td>2712.0</td>\n",
       "      <td>1237.0</td>\n",
       "      <td>1205.0</td>\n",
       "      <td>766.0</td>\n",
       "      <td>664.0</td>\n",
       "    </tr>\n",
       "    <tr>\n",
       "      <th>201805</th>\n",
       "      <td>3521.0</td>\n",
       "      <td>1681.0</td>\n",
       "      <td>1504.0</td>\n",
       "      <td>974.0</td>\n",
       "      <td>806.0</td>\n",
       "    </tr>\n",
       "  </tbody>\n",
       "</table>\n",
       "</div>"
      ],
      "text/plain": [
       "result_description     D24     D09     D11     D01    D30\n",
       "month                                                    \n",
       "201801              3115.0  1403.0  1780.0   667.0  641.0\n",
       "201802              3483.0  1705.0  1956.0   904.0  749.0\n",
       "201803              3554.0  1780.0  1509.0  1075.0  834.0\n",
       "201804              2712.0  1237.0  1205.0   766.0  664.0\n",
       "201805              3521.0  1681.0  1504.0   974.0  806.0"
      ]
     },
     "execution_count": 42,
     "metadata": {},
     "output_type": "execute_result"
    }
   ],
   "source": [
    "top5_decline_monthly"
   ]
  },
  {
   "cell_type": "code",
   "execution_count": 43,
   "metadata": {},
   "outputs": [
    {
     "name": "stdout",
     "output_type": "stream",
     "text": [
      "Power_divergenceResult(statistic=0.0011227267827691684, pvalue=0.9999998424945262)\n",
      "Accept H0 : the distribution are same\n"
     ]
    }
   ],
   "source": [
    "# select expected distribution as last 2 month\n",
    "# select observed distribution as last month\n",
    "exp_dist = top5_decline_monthly.iloc[top5_decline_monthly.shape[0]-2]\n",
    "obs_dist = top5_decline_monthly.iloc[top5_decline_monthly.shape[0]-1]\n",
    "\n",
    "# chisq goodness of fit\n",
    "# since sample 201804 not equal 201805 then use % contribution by month to test goodness of fit\n",
    "test = stats.chisquare(obs_dist/obs_dist.sum(), exp_dist/exp_dist.sum())\n",
    "print(test)\n",
    "\n",
    "# test result\n",
    "if test.pvalue < 0.05:\n",
    "    print('Reject H0 : the distribution are difference')\n",
    "else:\n",
    "    print('Accept H0 : the distribution are same')"
   ]
  },
  {
   "cell_type": "code",
   "execution_count": 44,
   "metadata": {},
   "outputs": [
    {
     "data": {
      "text/html": [
       "<div>\n",
       "<style scoped>\n",
       "    .dataframe tbody tr th:only-of-type {\n",
       "        vertical-align: middle;\n",
       "    }\n",
       "\n",
       "    .dataframe tbody tr th {\n",
       "        vertical-align: top;\n",
       "    }\n",
       "\n",
       "    .dataframe thead th {\n",
       "        text-align: right;\n",
       "    }\n",
       "</style>\n",
       "<table border=\"1\" class=\"dataframe\">\n",
       "  <thead>\n",
       "    <tr style=\"text-align: right;\">\n",
       "      <th>result_description</th>\n",
       "      <th>D24</th>\n",
       "      <th>D09</th>\n",
       "      <th>D11</th>\n",
       "      <th>D01</th>\n",
       "      <th>D30</th>\n",
       "    </tr>\n",
       "    <tr>\n",
       "      <th>month</th>\n",
       "      <th></th>\n",
       "      <th></th>\n",
       "      <th></th>\n",
       "      <th></th>\n",
       "      <th></th>\n",
       "    </tr>\n",
       "  </thead>\n",
       "  <tbody>\n",
       "    <tr>\n",
       "      <th>201801</th>\n",
       "      <td>3115</td>\n",
       "      <td>1403</td>\n",
       "      <td>1780</td>\n",
       "      <td>667</td>\n",
       "      <td>641</td>\n",
       "    </tr>\n",
       "    <tr>\n",
       "      <th>201802</th>\n",
       "      <td>3483</td>\n",
       "      <td>1705</td>\n",
       "      <td>1956</td>\n",
       "      <td>904</td>\n",
       "      <td>749</td>\n",
       "    </tr>\n",
       "    <tr>\n",
       "      <th>201803</th>\n",
       "      <td>3554</td>\n",
       "      <td>1780</td>\n",
       "      <td>1509</td>\n",
       "      <td>1075</td>\n",
       "      <td>834</td>\n",
       "    </tr>\n",
       "    <tr>\n",
       "      <th>201804</th>\n",
       "      <td>2712</td>\n",
       "      <td>1237</td>\n",
       "      <td>1205</td>\n",
       "      <td>766</td>\n",
       "      <td>664</td>\n",
       "    </tr>\n",
       "    <tr>\n",
       "      <th>201805</th>\n",
       "      <td>3521</td>\n",
       "      <td>1681</td>\n",
       "      <td>1504</td>\n",
       "      <td>974</td>\n",
       "      <td>806</td>\n",
       "    </tr>\n",
       "  </tbody>\n",
       "</table>\n",
       "</div>"
      ],
      "text/plain": [
       "result_description   D24   D09   D11   D01  D30\n",
       "month                                          \n",
       "201801              3115  1403  1780   667  641\n",
       "201802              3483  1705  1956   904  749\n",
       "201803              3554  1780  1509  1075  834\n",
       "201804              2712  1237  1205   766  664\n",
       "201805              3521  1681  1504   974  806"
      ]
     },
     "execution_count": 44,
     "metadata": {},
     "output_type": "execute_result"
    }
   ],
   "source": [
    "# another way to count top 5 rejects by month\n",
    "(pd.crosstab(df.query('channel == \"OSS\" and result == \"R\"')['month'], \n",
    "            df.query('channel == \"OSS\" and result == \"R\"')['result_description'])\n",
    " .sort_values(by = '201805', axis = 1, ascending = False).transpose().head().transpose())"
   ]
  },
  {
   "cell_type": "code",
   "execution_count": null,
   "metadata": {},
   "outputs": [],
   "source": []
  }
 ],
 "metadata": {
  "kernelspec": {
   "display_name": "Python 3",
   "language": "python",
   "name": "python3"
  },
  "language_info": {
   "codemirror_mode": {
    "name": "ipython",
    "version": 3
   },
   "file_extension": ".py",
   "mimetype": "text/x-python",
   "name": "python",
   "nbconvert_exporter": "python",
   "pygments_lexer": "ipython3",
   "version": "3.6.5"
  }
 },
 "nbformat": 4,
 "nbformat_minor": 2
}
