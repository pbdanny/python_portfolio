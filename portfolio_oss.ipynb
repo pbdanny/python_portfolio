{
 "cells": [
  {
   "cell_type": "code",
   "execution_count": 2,
   "metadata": {},
   "outputs": [],
   "source": [
    "# initialized connection\n",
    "import pandas as pd\n",
    "import numpy as np\n",
    "import matplotlib.pyplot as plt\n",
    "import psycopg2 as pg"
   ]
  },
  {
   "cell_type": "code",
   "execution_count": 81,
   "metadata": {},
   "outputs": [],
   "source": [
    "# read pwd string from save file\n",
    "with open('postgrest_pwd.txt', 'r') as f:\n",
    "    pwd = f.readline()"
   ]
  },
  {
   "cell_type": "code",
   "execution_count": 82,
   "metadata": {},
   "outputs": [],
   "source": [
    "# read data from table to datatframe with Month form 201801\n",
    "table = 'mat_view_cc_kpi_m'\n",
    "with pg.connect(database='ktc', user='postgres', password=pwd) as con:\n",
    "    df = pd.read_sql('select * from ' + table + ' where \"Month\"::bigint >= 201801', con = con)\n",
    "    con.close()"
   ]
  },
  {
   "cell_type": "markdown",
   "metadata": {},
   "source": [
    "## Oss Credit card by month\n",
    "### Approved performance"
   ]
  },
  {
   "cell_type": "markdown",
   "metadata": {},
   "source": [
    "#### Finalized"
   ]
  },
  {
   "cell_type": "code",
   "execution_count": 119,
   "metadata": {},
   "outputs": [
    {
     "data": {
      "text/html": [
       "<div>\n",
       "<style scoped>\n",
       "    .dataframe tbody tr th:only-of-type {\n",
       "        vertical-align: middle;\n",
       "    }\n",
       "\n",
       "    .dataframe tbody tr th {\n",
       "        vertical-align: top;\n",
       "    }\n",
       "\n",
       "    .dataframe thead th {\n",
       "        text-align: right;\n",
       "    }\n",
       "</style>\n",
       "<table border=\"1\" class=\"dataframe\">\n",
       "  <thead>\n",
       "    <tr style=\"text-align: right;\">\n",
       "      <th></th>\n",
       "      <th>Month</th>\n",
       "      <th>201801</th>\n",
       "      <th>201802</th>\n",
       "      <th>201803</th>\n",
       "      <th>201804</th>\n",
       "    </tr>\n",
       "    <tr>\n",
       "      <th>channel</th>\n",
       "      <th>channel_sub</th>\n",
       "      <th></th>\n",
       "      <th></th>\n",
       "      <th></th>\n",
       "      <th></th>\n",
       "    </tr>\n",
       "  </thead>\n",
       "  <tbody>\n",
       "    <tr>\n",
       "      <th rowspan=\"2\" valign=\"top\">OSS</th>\n",
       "      <th>Direct</th>\n",
       "      <td>17,962</td>\n",
       "      <td>21,490</td>\n",
       "      <td>21,146</td>\n",
       "      <td>16,711</td>\n",
       "    </tr>\n",
       "    <tr>\n",
       "      <th>OSS_Tele</th>\n",
       "      <td>1,184</td>\n",
       "      <td>1,275</td>\n",
       "      <td>1,158</td>\n",
       "      <td>1,495</td>\n",
       "    </tr>\n",
       "    <tr>\n",
       "      <th>Tele</th>\n",
       "      <th>Telesales</th>\n",
       "      <td>3,677</td>\n",
       "      <td>4,752</td>\n",
       "      <td>5,913</td>\n",
       "      <td>4,476</td>\n",
       "    </tr>\n",
       "  </tbody>\n",
       "</table>\n",
       "</div>"
      ],
      "text/plain": [
       "Month                201801  201802  201803  201804\n",
       "channel channel_sub                                \n",
       "OSS     Direct       17,962  21,490  21,146  16,711\n",
       "        OSS_Tele      1,184   1,275   1,158   1,495\n",
       "Tele    Telesales     3,677   4,752   5,913   4,476"
      ]
     },
     "execution_count": 119,
     "metadata": {},
     "output_type": "execute_result"
    }
   ],
   "source": [
    "df_gr = df.groupby(['Month', 'channel', 'channel_sub'])\n",
    "df_gr['finalized'].sum().unstack(0).applymap(\"{:,d}\".format)"
   ]
  },
  {
   "cell_type": "markdown",
   "metadata": {},
   "source": [
    "#### Approve-new"
   ]
  },
  {
   "cell_type": "code",
   "execution_count": 120,
   "metadata": {},
   "outputs": [
    {
     "data": {
      "text/html": [
       "<div>\n",
       "<style scoped>\n",
       "    .dataframe tbody tr th:only-of-type {\n",
       "        vertical-align: middle;\n",
       "    }\n",
       "\n",
       "    .dataframe tbody tr th {\n",
       "        vertical-align: top;\n",
       "    }\n",
       "\n",
       "    .dataframe thead th {\n",
       "        text-align: right;\n",
       "    }\n",
       "</style>\n",
       "<table border=\"1\" class=\"dataframe\">\n",
       "  <thead>\n",
       "    <tr style=\"text-align: right;\">\n",
       "      <th></th>\n",
       "      <th>Month</th>\n",
       "      <th>201801</th>\n",
       "      <th>201802</th>\n",
       "      <th>201803</th>\n",
       "      <th>201804</th>\n",
       "    </tr>\n",
       "    <tr>\n",
       "      <th>channel</th>\n",
       "      <th>channel_sub</th>\n",
       "      <th></th>\n",
       "      <th></th>\n",
       "      <th></th>\n",
       "      <th></th>\n",
       "    </tr>\n",
       "  </thead>\n",
       "  <tbody>\n",
       "    <tr>\n",
       "      <th rowspan=\"2\" valign=\"top\">OSS</th>\n",
       "      <th>Direct</th>\n",
       "      <td>6,694</td>\n",
       "      <td>8,017</td>\n",
       "      <td>7,741</td>\n",
       "      <td>6,099</td>\n",
       "    </tr>\n",
       "    <tr>\n",
       "      <th>OSS_Tele</th>\n",
       "      <td>530</td>\n",
       "      <td>496</td>\n",
       "      <td>459</td>\n",
       "      <td>607</td>\n",
       "    </tr>\n",
       "    <tr>\n",
       "      <th>Tele</th>\n",
       "      <th>Telesales</th>\n",
       "      <td>1,472</td>\n",
       "      <td>1,544</td>\n",
       "      <td>1,931</td>\n",
       "      <td>1,539</td>\n",
       "    </tr>\n",
       "  </tbody>\n",
       "</table>\n",
       "</div>"
      ],
      "text/plain": [
       "Month               201801 201802 201803 201804\n",
       "channel channel_sub                            \n",
       "OSS     Direct       6,694  8,017  7,741  6,099\n",
       "        OSS_Tele       530    496    459    607\n",
       "Tele    Telesales    1,472  1,544  1,931  1,539"
      ]
     },
     "execution_count": 120,
     "metadata": {},
     "output_type": "execute_result"
    }
   ],
   "source": [
    "df_gr['appr_new'].sum().unstack(0).applymap(\"{:,d}\".format)"
   ]
  },
  {
   "cell_type": "markdown",
   "metadata": {},
   "source": [
    "#### % Appr-rate"
   ]
  },
  {
   "cell_type": "code",
   "execution_count": 141,
   "metadata": {},
   "outputs": [
    {
     "data": {
      "text/html": [
       "<div>\n",
       "<style scoped>\n",
       "    .dataframe tbody tr th:only-of-type {\n",
       "        vertical-align: middle;\n",
       "    }\n",
       "\n",
       "    .dataframe tbody tr th {\n",
       "        vertical-align: top;\n",
       "    }\n",
       "\n",
       "    .dataframe thead th {\n",
       "        text-align: right;\n",
       "    }\n",
       "</style>\n",
       "<table border=\"1\" class=\"dataframe\">\n",
       "  <thead>\n",
       "    <tr style=\"text-align: right;\">\n",
       "      <th></th>\n",
       "      <th>Month</th>\n",
       "      <th>201801</th>\n",
       "      <th>201802</th>\n",
       "      <th>201803</th>\n",
       "      <th>201804</th>\n",
       "    </tr>\n",
       "    <tr>\n",
       "      <th>channel</th>\n",
       "      <th>channel_sub</th>\n",
       "      <th></th>\n",
       "      <th></th>\n",
       "      <th></th>\n",
       "      <th></th>\n",
       "    </tr>\n",
       "  </thead>\n",
       "  <tbody>\n",
       "    <tr>\n",
       "      <th rowspan=\"2\" valign=\"top\">OSS</th>\n",
       "      <th>Direct</th>\n",
       "      <td>37%</td>\n",
       "      <td>37%</td>\n",
       "      <td>37%</td>\n",
       "      <td>36%</td>\n",
       "    </tr>\n",
       "    <tr>\n",
       "      <th>OSS_Tele</th>\n",
       "      <td>45%</td>\n",
       "      <td>39%</td>\n",
       "      <td>40%</td>\n",
       "      <td>41%</td>\n",
       "    </tr>\n",
       "    <tr>\n",
       "      <th>Tele</th>\n",
       "      <th>Telesales</th>\n",
       "      <td>40%</td>\n",
       "      <td>32%</td>\n",
       "      <td>33%</td>\n",
       "      <td>34%</td>\n",
       "    </tr>\n",
       "  </tbody>\n",
       "</table>\n",
       "</div>"
      ],
      "text/plain": [
       "Month               201801 201802 201803 201804\n",
       "channel channel_sub                            \n",
       "OSS     Direct         37%    37%    37%    36%\n",
       "        OSS_Tele       45%    39%    40%    41%\n",
       "Tele    Telesales      40%    32%    33%    34%"
      ]
     },
     "execution_count": 141,
     "metadata": {},
     "output_type": "execute_result"
    }
   ],
   "source": [
    "(df_gr['appr_new'].sum()/df_gr['finalized'].sum()).unstack(0).applymap(\"{:.0%}\".format)"
   ]
  },
  {
   "cell_type": "markdown",
   "metadata": {},
   "source": [
    "#### Credit limit new"
   ]
  },
  {
   "cell_type": "code",
   "execution_count": 138,
   "metadata": {},
   "outputs": [
    {
     "data": {
      "text/html": [
       "<div>\n",
       "<style scoped>\n",
       "    .dataframe tbody tr th:only-of-type {\n",
       "        vertical-align: middle;\n",
       "    }\n",
       "\n",
       "    .dataframe tbody tr th {\n",
       "        vertical-align: top;\n",
       "    }\n",
       "\n",
       "    .dataframe thead th {\n",
       "        text-align: right;\n",
       "    }\n",
       "</style>\n",
       "<table border=\"1\" class=\"dataframe\">\n",
       "  <thead>\n",
       "    <tr style=\"text-align: right;\">\n",
       "      <th></th>\n",
       "      <th>Month</th>\n",
       "      <th>201801</th>\n",
       "      <th>201802</th>\n",
       "      <th>201803</th>\n",
       "      <th>201804</th>\n",
       "    </tr>\n",
       "    <tr>\n",
       "      <th>channel</th>\n",
       "      <th>channel_sub</th>\n",
       "      <th></th>\n",
       "      <th></th>\n",
       "      <th></th>\n",
       "      <th></th>\n",
       "    </tr>\n",
       "  </thead>\n",
       "  <tbody>\n",
       "    <tr>\n",
       "      <th rowspan=\"2\" valign=\"top\">OSS</th>\n",
       "      <th>Direct</th>\n",
       "      <td>51,229</td>\n",
       "      <td>53,753</td>\n",
       "      <td>46,022</td>\n",
       "      <td>53,392</td>\n",
       "    </tr>\n",
       "    <tr>\n",
       "      <th>OSS_Tele</th>\n",
       "      <td>54,630</td>\n",
       "      <td>43,952</td>\n",
       "      <td>40,033</td>\n",
       "      <td>36,219</td>\n",
       "    </tr>\n",
       "    <tr>\n",
       "      <th>Tele</th>\n",
       "      <th>Telesales</th>\n",
       "      <td>52,739</td>\n",
       "      <td>52,141</td>\n",
       "      <td>50,016</td>\n",
       "      <td>46,648</td>\n",
       "    </tr>\n",
       "  </tbody>\n",
       "</table>\n",
       "</div>"
      ],
      "text/plain": [
       "Month                201801  201802  201803  201804\n",
       "channel channel_sub                                \n",
       "OSS     Direct       51,229  53,753  46,022  53,392\n",
       "        OSS_Tele     54,630  43,952  40,033  36,219\n",
       "Tele    Telesales    52,739  52,141  50,016  46,648"
      ]
     },
     "execution_count": 138,
     "metadata": {},
     "output_type": "execute_result"
    }
   ],
   "source": [
    "(df_gr['credit_limit_new'].sum()/df_gr['appr_new'].sum()).unstack(0).applymap(\"{:,.0f}\".format)"
   ]
  },
  {
   "cell_type": "markdown",
   "metadata": {},
   "source": [
    "#### % active60D"
   ]
  },
  {
   "cell_type": "code",
   "execution_count": 134,
   "metadata": {},
   "outputs": [
    {
     "data": {
      "text/html": [
       "<div>\n",
       "<style scoped>\n",
       "    .dataframe tbody tr th:only-of-type {\n",
       "        vertical-align: middle;\n",
       "    }\n",
       "\n",
       "    .dataframe tbody tr th {\n",
       "        vertical-align: top;\n",
       "    }\n",
       "\n",
       "    .dataframe thead th {\n",
       "        text-align: right;\n",
       "    }\n",
       "</style>\n",
       "<table border=\"1\" class=\"dataframe\">\n",
       "  <thead>\n",
       "    <tr style=\"text-align: right;\">\n",
       "      <th></th>\n",
       "      <th>Month</th>\n",
       "      <th>201801</th>\n",
       "      <th>201802</th>\n",
       "      <th>201803</th>\n",
       "      <th>201804</th>\n",
       "    </tr>\n",
       "    <tr>\n",
       "      <th>channel</th>\n",
       "      <th>channel_sub</th>\n",
       "      <th></th>\n",
       "      <th></th>\n",
       "      <th></th>\n",
       "      <th></th>\n",
       "    </tr>\n",
       "  </thead>\n",
       "  <tbody>\n",
       "    <tr>\n",
       "      <th rowspan=\"2\" valign=\"top\">OSS</th>\n",
       "      <th>Direct</th>\n",
       "      <td>61%</td>\n",
       "      <td>62%</td>\n",
       "      <td>55%</td>\n",
       "      <td>23%</td>\n",
       "    </tr>\n",
       "    <tr>\n",
       "      <th>OSS_Tele</th>\n",
       "      <td>71%</td>\n",
       "      <td>75%</td>\n",
       "      <td>65%</td>\n",
       "      <td>31%</td>\n",
       "    </tr>\n",
       "    <tr>\n",
       "      <th>Tele</th>\n",
       "      <th>Telesales</th>\n",
       "      <td>86%</td>\n",
       "      <td>86%</td>\n",
       "      <td>81%</td>\n",
       "      <td>37%</td>\n",
       "    </tr>\n",
       "  </tbody>\n",
       "</table>\n",
       "</div>"
      ],
      "text/plain": [
       "Month               201801 201802 201803 201804\n",
       "channel channel_sub                            \n",
       "OSS     Direct         61%    62%    55%    23%\n",
       "        OSS_Tele       71%    75%    65%    31%\n",
       "Tele    Telesales      86%    86%    81%    37%"
      ]
     },
     "execution_count": 134,
     "metadata": {},
     "output_type": "execute_result"
    }
   ],
   "source": [
    "(df_gr['active60'].sum()/df_gr['appr_new'].sum()).unstack(0).applymap(\"{:.0%}\".format)"
   ]
  },
  {
   "cell_type": "code",
   "execution_count": 137,
   "metadata": {},
   "outputs": [
    {
     "data": {
      "text/html": [
       "<div>\n",
       "<style scoped>\n",
       "    .dataframe tbody tr th:only-of-type {\n",
       "        vertical-align: middle;\n",
       "    }\n",
       "\n",
       "    .dataframe tbody tr th {\n",
       "        vertical-align: top;\n",
       "    }\n",
       "\n",
       "    .dataframe thead th {\n",
       "        text-align: right;\n",
       "    }\n",
       "</style>\n",
       "<table border=\"1\" class=\"dataframe\">\n",
       "  <thead>\n",
       "    <tr style=\"text-align: right;\">\n",
       "      <th></th>\n",
       "      <th>Month</th>\n",
       "      <th>201801</th>\n",
       "      <th>201802</th>\n",
       "      <th>201803</th>\n",
       "      <th>201804</th>\n",
       "    </tr>\n",
       "    <tr>\n",
       "      <th>channel</th>\n",
       "      <th>channel_sub</th>\n",
       "      <th></th>\n",
       "      <th></th>\n",
       "      <th></th>\n",
       "      <th></th>\n",
       "    </tr>\n",
       "  </thead>\n",
       "  <tbody>\n",
       "    <tr>\n",
       "      <th rowspan=\"2\" valign=\"top\">OSS</th>\n",
       "      <th>Direct</th>\n",
       "      <td>61%</td>\n",
       "      <td>62%</td>\n",
       "      <td>55%</td>\n",
       "      <td>23%</td>\n",
       "    </tr>\n",
       "    <tr>\n",
       "      <th>OSS_Tele</th>\n",
       "      <td>71%</td>\n",
       "      <td>75%</td>\n",
       "      <td>65%</td>\n",
       "      <td>31%</td>\n",
       "    </tr>\n",
       "    <tr>\n",
       "      <th>Tele</th>\n",
       "      <th>Telesales</th>\n",
       "      <td>86%</td>\n",
       "      <td>86%</td>\n",
       "      <td>81%</td>\n",
       "      <td>37%</td>\n",
       "    </tr>\n",
       "  </tbody>\n",
       "</table>\n",
       "</div>"
      ],
      "text/plain": [
       "Month               201801 201802 201803 201804\n",
       "channel channel_sub                            \n",
       "OSS     Direct         61%    62%    55%    23%\n",
       "        OSS_Tele       71%    75%    65%    31%\n",
       "Tele    Telesales      86%    86%    81%    37%"
      ]
     },
     "execution_count": 137,
     "metadata": {},
     "output_type": "execute_result"
    }
   ],
   "source": [
    "(df_gr['active60'].sum()/df_gr['appr_new'].sum()).unstack(0).applymap(\"{:.0%}\".format)"
   ]
  },
  {
   "cell_type": "code",
   "execution_count": 235,
   "metadata": {},
   "outputs": [
    {
     "data": {
      "text/plain": [
       "<matplotlib.axes._subplots.AxesSubplot at 0x19c70f4a8>"
      ]
     },
     "execution_count": 235,
     "metadata": {},
     "output_type": "execute_result"
    },
    {
     "data": {
      "image/png": "[encoded data removed]",
      "text/plain": [
       "<Figure size 432x288 with 1 Axes>"
      ]
     },
     "metadata": {},
     "output_type": "display_data"
    }
   ],
   "source": [
    "df.groupby(['channel_sub', 'Month'])['finalized'].sum().unstack(0).plot()"
   ]
  },
  {
   "cell_type": "code",
   "execution_count": 251,
   "metadata": {},
   "outputs": [
    {
     "data": {
      "text/html": [
       "<div>\n",
       "<style scoped>\n",
       "    .dataframe tbody tr th:only-of-type {\n",
       "        vertical-align: middle;\n",
       "    }\n",
       "\n",
       "    .dataframe tbody tr th {\n",
       "        vertical-align: top;\n",
       "    }\n",
       "\n",
       "    .dataframe thead th {\n",
       "        text-align: right;\n",
       "    }\n",
       "</style>\n",
       "<table border=\"1\" class=\"dataframe\">\n",
       "  <thead>\n",
       "    <tr style=\"text-align: right;\">\n",
       "      <th></th>\n",
       "      <th></th>\n",
       "      <th>Month</th>\n",
       "      <th>201801</th>\n",
       "      <th>201802</th>\n",
       "      <th>201803</th>\n",
       "      <th>201804</th>\n",
       "    </tr>\n",
       "    <tr>\n",
       "      <th>channel</th>\n",
       "      <th>channel_sub</th>\n",
       "      <th></th>\n",
       "      <th></th>\n",
       "      <th></th>\n",
       "      <th></th>\n",
       "      <th></th>\n",
       "    </tr>\n",
       "  </thead>\n",
       "  <tbody>\n",
       "    <tr>\n",
       "      <th rowspan=\"4\" valign=\"top\">OSS</th>\n",
       "      <th rowspan=\"2\" valign=\"top\">Direct</th>\n",
       "      <th>finalized</th>\n",
       "      <td>17,962</td>\n",
       "      <td>21,490</td>\n",
       "      <td>21,146</td>\n",
       "      <td>16,711</td>\n",
       "    </tr>\n",
       "    <tr>\n",
       "      <th>appr_new</th>\n",
       "      <td>6,694</td>\n",
       "      <td>8,017</td>\n",
       "      <td>7,741</td>\n",
       "      <td>6,099</td>\n",
       "    </tr>\n",
       "    <tr>\n",
       "      <th rowspan=\"2\" valign=\"top\">OSS_Tele</th>\n",
       "      <th>finalized</th>\n",
       "      <td>1,184</td>\n",
       "      <td>1,275</td>\n",
       "      <td>1,158</td>\n",
       "      <td>1,495</td>\n",
       "    </tr>\n",
       "    <tr>\n",
       "      <th>appr_new</th>\n",
       "      <td>530</td>\n",
       "      <td>496</td>\n",
       "      <td>459</td>\n",
       "      <td>607</td>\n",
       "    </tr>\n",
       "    <tr>\n",
       "      <th rowspan=\"2\" valign=\"top\">Tele</th>\n",
       "      <th rowspan=\"2\" valign=\"top\">Telesales</th>\n",
       "      <th>finalized</th>\n",
       "      <td>3,677</td>\n",
       "      <td>4,752</td>\n",
       "      <td>5,913</td>\n",
       "      <td>4,476</td>\n",
       "    </tr>\n",
       "    <tr>\n",
       "      <th>appr_new</th>\n",
       "      <td>1,472</td>\n",
       "      <td>1,544</td>\n",
       "      <td>1,931</td>\n",
       "      <td>1,539</td>\n",
       "    </tr>\n",
       "  </tbody>\n",
       "</table>\n",
       "</div>"
      ],
      "text/plain": [
       "Month                          201801  201802  201803  201804\n",
       "channel channel_sub                                          \n",
       "OSS     Direct      finalized  17,962  21,490  21,146  16,711\n",
       "                    appr_new    6,694   8,017   7,741   6,099\n",
       "        OSS_Tele    finalized   1,184   1,275   1,158   1,495\n",
       "                    appr_new      530     496     459     607\n",
       "Tele    Telesales   finalized   3,677   4,752   5,913   4,476\n",
       "                    appr_new    1,472   1,544   1,931   1,539"
      ]
     },
     "execution_count": 251,
     "metadata": {},
     "output_type": "execute_result"
    }
   ],
   "source": [
    "df_gr[['finalized', 'appr_new']].sum().stack().unstack(0).applymap(\"{:,d}\".format)"
   ]
  },
  {
   "cell_type": "code",
   "execution_count": 274,
   "metadata": {},
   "outputs": [],
   "source": [
    "i = df_gr[['finalized', 'appr_new']].sum().stack()"
   ]
  },
  {
   "cell_type": "code",
   "execution_count": 277,
   "metadata": {},
   "outputs": [],
   "source": [
    "i.index.names = ['Month','channel','channel_sub','kpi']"
   ]
  },
  {
   "cell_type": "code",
   "execution_count": 278,
   "metadata": {},
   "outputs": [
    {
     "data": {
      "text/plain": [
       "Month   channel  channel_sub  kpi      \n",
       "201801  OSS      Direct       finalized    17962\n",
       "                              appr_new      6694\n",
       "                 OSS_Tele     finalized     1184\n",
       "                              appr_new       530\n",
       "        Tele     Telesales    finalized     3677\n",
       "                              appr_new      1472\n",
       "201802  OSS      Direct       finalized    21490\n",
       "                              appr_new      8017\n",
       "                 OSS_Tele     finalized     1275\n",
       "                              appr_new       496\n",
       "        Tele     Telesales    finalized     4752\n",
       "                              appr_new      1544\n",
       "201803  OSS      Direct       finalized    21146\n",
       "                              appr_new      7741\n",
       "                 OSS_Tele     finalized     1158\n",
       "                              appr_new       459\n",
       "        Tele     Telesales    finalized     5913\n",
       "                              appr_new      1931\n",
       "201804  OSS      Direct       finalized    16711\n",
       "                              appr_new      6099\n",
       "                 OSS_Tele     finalized     1495\n",
       "                              appr_new       607\n",
       "        Tele     Telesales    finalized     4476\n",
       "                              appr_new      1539\n",
       "dtype: int64"
      ]
     },
     "execution_count": 278,
     "metadata": {},
     "output_type": "execute_result"
    }
   ],
   "source": [
    "i"
   ]
  },
  {
   "cell_type": "code",
   "execution_count": null,
   "metadata": {},
   "outputs": [],
   "source": []
  }
 ],
 "metadata": {
  "kernelspec": {
   "display_name": "Python 3",
   "language": "python",
   "name": "python3"
  },
  "language_info": {
   "codemirror_mode": {
    "name": "ipython",
    "version": 3
   },
   "file_extension": ".py",
   "mimetype": "text/x-python",
   "name": "python",
   "nbconvert_exporter": "python",
   "pygments_lexer": "ipython3",
   "version": "3.6.5"
  }
 },
 "nbformat": 4,
 "nbformat_minor": 2
}
