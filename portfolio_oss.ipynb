{
 "cells": [
  {
   "cell_type": "code",
   "execution_count": 1,
   "metadata": {
    "slideshow": {
     "slide_type": "slide"
    }
   },
   "outputs": [],
   "source": [
    "# initialized connection\n",
    "import pandas as pd\n",
    "import numpy as np\n",
    "import matplotlib.pyplot as plt\n",
    "import psycopg2 as pg\n",
    "from scipy import stats"
   ]
  },
  {
   "cell_type": "code",
   "execution_count": 2,
   "metadata": {
    "slideshow": {
     "slide_type": "slide"
    }
   },
   "outputs": [],
   "source": [
    "# read pwd string from save file\n",
    "with open('postgrest_pwd.txt', 'r') as f:\n",
    "    pwd = f.readline()"
   ]
  },
  {
   "cell_type": "code",
   "execution_count": 3,
   "metadata": {},
   "outputs": [],
   "source": [
    "# read data from table to datatframe with Month form 201801\n",
    "table = 'mis_cc_kpi_m'\n",
    "with pg.connect(database='ktc', user='postgres', password=pwd) as con:\n",
    "    df = pd.read_sql('select * from ' + table + ' where \"month\"::bigint >= 201801', con = con)"
   ]
  },
  {
   "cell_type": "markdown",
   "metadata": {},
   "source": [
    "## Oss Credit card by month\n",
    "### Approved performance"
   ]
  },
  {
   "cell_type": "markdown",
   "metadata": {},
   "source": [
    "#### Finalized"
   ]
  },
  {
   "cell_type": "code",
   "execution_count": null,
   "metadata": {},
   "outputs": [],
   "source": [
    "df_gr = df.groupby(['month', 'channel', 'channel_sub'])\n",
    "df_gr['finalized'].sum().unstack(0).applymap(\"{:,d}\".format)"
   ]
  },
  {
   "cell_type": "markdown",
   "metadata": {},
   "source": [
    "#### Approve-new"
   ]
  },
  {
   "cell_type": "code",
   "execution_count": null,
   "metadata": {},
   "outputs": [],
   "source": [
    "df_gr['appr_new'].sum().unstack(0).applymap(\"{:,d}\".format)"
   ]
  },
  {
   "cell_type": "markdown",
   "metadata": {},
   "source": [
    "#### % Appr-rate"
   ]
  },
  {
   "cell_type": "code",
   "execution_count": null,
   "metadata": {},
   "outputs": [],
   "source": [
    "(df_gr['appr'].sum()/df_gr['finalized'].sum()).unstack(0).applymap(\"{:.0%}\".format)"
   ]
  },
  {
   "cell_type": "markdown",
   "metadata": {},
   "source": [
    "#### Credit limit new"
   ]
  },
  {
   "cell_type": "code",
   "execution_count": null,
   "metadata": {},
   "outputs": [],
   "source": [
    "(df_gr['credit_limit_new'].sum()/df_gr['appr_new'].sum()).unstack(0).applymap(\"{:,.0f}\".format)"
   ]
  },
  {
   "cell_type": "markdown",
   "metadata": {},
   "source": [
    "#### % active60D"
   ]
  },
  {
   "cell_type": "code",
   "execution_count": null,
   "metadata": {},
   "outputs": [],
   "source": [
    "(df_gr['active60'].sum()/df_gr['appr_new'].sum()).unstack(0).applymap(\"{:.0%}\".format)"
   ]
  },
  {
   "cell_type": "code",
   "execution_count": null,
   "metadata": {},
   "outputs": [],
   "source": [
    "df.groupby(['channel_sub', 'month'])['finalized'].sum().unstack(0).plot()"
   ]
  },
  {
   "cell_type": "code",
   "execution_count": null,
   "metadata": {},
   "outputs": [],
   "source": [
    "df_gr[['finalized', 'appr_new']].sum().stack().unstack(0).applymap(\"{:,d}\".format)"
   ]
  },
  {
   "cell_type": "code",
   "execution_count": null,
   "metadata": {},
   "outputs": [],
   "source": [
    "# group by , sum, reset MultiIndex -> DataFrame\n",
    "i = df_gr[['finalized', 'appr', 'appr_new']].sum().reset_index()\n",
    "# create per apr from appr_new / finalzied\n",
    "i['per_apr'] = (i['appr_new']/i['finalized'])\n",
    "# Set style\n",
    "i.style.format({'finalized':\"{:,.0f}\", 'appr':\"{:,.0f}\", 'appr_new':\"{:,.0f}\"}).format({'per_apr':\"{:,.0%}\"})"
   ]
  },
  {
   "cell_type": "markdown",
   "metadata": {},
   "source": [
    "### Top Reason\n",
    "#### OSS - top 5 Decline"
   ]
  },
  {
   "cell_type": "code",
   "execution_count": null,
   "metadata": {},
   "outputs": [],
   "source": [
    "# Filter only result == 'R' and channel == 'OSS'\n",
    "# then group by month, result_description\n",
    "# then size() \n",
    "# then reset MultiIndex to DataFrame\n",
    "decline = (df[(df.result == 'R') & (df.channel == 'OSS')]\n",
    "           .groupby(['month','result_description'])['finalized']\n",
    "           .size().reset_index())"
   ]
  },
  {
   "cell_type": "code",
   "execution_count": null,
   "metadata": {},
   "outputs": [],
   "source": [
    "# create column rn = sort by finalized, decending order\n",
    "# group by month, create rn (row_number) by cumcount()  +1\n",
    "# query only rn (row_number) <= 5 (top 5)\n",
    "# sort Dataframe by 'month and rn'\n",
    "\n",
    "top_decline = (decline.assign(rn = decline.sort_values(['finalized'], ascending=False)\n",
    "               .groupby(['month']).cumcount() + 1)\n",
    "               .query('rn <= 5')\n",
    "               .sort_values(['month', 'rn']))"
   ]
  },
  {
   "cell_type": "code",
   "execution_count": null,
   "metadata": {},
   "outputs": [],
   "source": [
    "# transform DataFrame to MultiIndex with pivot, sort by values in 201805\n",
    "top_decline.pivot(index='result_description', columns='month', values='finalized').sort_values('201805', ascending = False)"
   ]
  },
  {
   "cell_type": "markdown",
   "metadata": {},
   "source": [
    "Another way of creating top decline"
   ]
  },
  {
   "cell_type": "code",
   "execution_count": null,
   "metadata": {},
   "outputs": [],
   "source": [
    "(df.query('result == \"R\" and channel == \"OSS\"')\n",
    " .groupby(['month', 'result_description'])\n",
    " .size().unstack(0).sort_values('201805', ascending = False).head(5))"
   ]
  },
  {
   "cell_type": "markdown",
   "metadata": {},
   "source": [
    "OSS - % top 5 decline"
   ]
  },
  {
   "cell_type": "code",
   "execution_count": null,
   "metadata": {},
   "outputs": [],
   "source": [
    "# Series of top decline by month and reason\n",
    "decline = (df.query('result == \"R\" and channel == \"OSS\"')\n",
    " .groupby(['month', 'result_description'])\n",
    " .size())\n",
    "\n",
    "# Series of finalized by month\n",
    "finalized = (df.groupby('month').size())\n",
    "\n",
    "# Series of top decline by month and reason / series of finalized by month, matching by month\n",
    "(decline.div(finalized, level='month')\n",
    " .unstack(0)\n",
    " .sort_values('201805', ascending = False)\n",
    " .applymap(\"{:,.0%}\".format).head(5))"
   ]
  },
  {
   "cell_type": "markdown",
   "metadata": {},
   "source": [
    "Oss - Top 5 cancel & % top 5 cancel"
   ]
  },
  {
   "cell_type": "code",
   "execution_count": null,
   "metadata": {},
   "outputs": [],
   "source": [
    "oss_cancel = (df.query('result == \"C\" and channel == \"OSS\"')\n",
    "              .groupby(['month', 'result_description']).size())\n",
    "oss_finaize = (df.query('channel == \"OSS\"').groupby('month').size())\n",
    "\n",
    "oss_cancel.unstack(0).sort_values('201805', ascending = False).head(5).applymap(\"{:,.0f}\".format)"
   ]
  },
  {
   "cell_type": "code",
   "execution_count": null,
   "metadata": {},
   "outputs": [],
   "source": [
    "(oss_cancel.div(oss_finaize, level = 'month').unstack(0).sort_values('201805', ascending = False)\n",
    " .head(5).applymap(\"{:,.0%}\".format))"
   ]
  },
  {
   "cell_type": "markdown",
   "metadata": {},
   "source": [
    "### Demographic group"
   ]
  },
  {
   "cell_type": "code",
   "execution_count": null,
   "metadata": {},
   "outputs": [],
   "source": [
    "%matplotlib inline"
   ]
  },
  {
   "cell_type": "code",
   "execution_count": null,
   "metadata": {},
   "outputs": [],
   "source": [
    "df.loc[df.age > 0].groupby('month')['age'].plot.density()"
   ]
  },
  {
   "cell_type": "code",
   "execution_count": null,
   "metadata": {},
   "outputs": [],
   "source": [
    "# use group by\n",
    "df.groupby(['channel','bkk_upc']).size().unstack(0)"
   ]
  },
  {
   "cell_type": "code",
   "execution_count": null,
   "metadata": {},
   "outputs": [],
   "source": [
    "# use cross tab\n",
    "pd.crosstab(df.bkk_upc, df.channel)"
   ]
  },
  {
   "cell_type": "code",
   "execution_count": null,
   "metadata": {},
   "outputs": [],
   "source": [
    "%matplotlib inline\n",
    "df.groupby(['channel','bkk_upc']).size().unstack(0).plot.pie(subplots = True, figsize=(8,4))"
   ]
  },
  {
   "cell_type": "code",
   "execution_count": null,
   "metadata": {},
   "outputs": [],
   "source": [
    "df.groupby(['channel','month','bkk_upc']).size().unstack([0,1])['OSS'].plot.pie(subplots = True, figsize=(20,4))"
   ]
  },
  {
   "cell_type": "code",
   "execution_count": null,
   "metadata": {},
   "outputs": [],
   "source": [
    "df.groupby(['channel','month','bkk_upc']).size().unstack([0,2])['OSS'].plot.bar(stacked = True)"
   ]
  },
  {
   "cell_type": "markdown",
   "metadata": {},
   "source": [
    "### Statistical inference\n",
    "##### T-Test\n",
    "Non paired t-test pulled varience between average age last month vs last 2 month"
   ]
  },
  {
   "cell_type": "code",
   "execution_count": null,
   "metadata": {},
   "outputs": [],
   "source": [
    "# OSS avg age by month\n",
    "df.query('channel == \"OSS\" and age > 0').groupby('month')['age'].mean()"
   ]
  },
  {
   "cell_type": "code",
   "execution_count": null,
   "metadata": {},
   "outputs": [],
   "source": [
    "# boxplot Oss avg age by month\n",
    "df.query('channel == \"OSS\" and age > 0').boxplot(column='age', by='month')"
   ]
  },
  {
   "cell_type": "code",
   "execution_count": null,
   "metadata": {},
   "outputs": [],
   "source": [
    "def last_2_month(df):\n",
    "    month_list = df.month.unique()\n",
    "    month_list.sort()\n",
    "    try:\n",
    "        return month_list[-1:-3:-1]  # list of last month and last 2 month\n",
    "    except:\n",
    "        print(\"Error \".format(month_list))\n",
    "        return None"
   ]
  },
  {
   "cell_type": "code",
   "execution_count": null,
   "metadata": {},
   "outputs": [],
   "source": [
    "def t_test_last_mom(df, var):\n",
    "    # find last month and last 2 month\n",
    "    months = last_2_month(df)\n",
    "    \n",
    "    # Pair-wised t-test differenc in mean\n",
    "    var_last = df.loc[(df.channel == \"OSS\") & (df.month == months[0]), [var]]\n",
    "    var_last_2 = df.loc[(df.channel == \"OSS\") & (df.month == months[1]), [var]]\n",
    "    test = stats.ttest_ind(var_last, var_last_2)\n",
    "    \n",
    "    # print test result\n",
    "    print(\"{0} t-test month {1} with month {2}\".format(var, months[0], months[1]))\n",
    "    print(\"p-valus : {:.5f}\".format(test.pvalue[0]))\n",
    "    if test.pvalue[0] < 0.05:\n",
    "        print(\"reject H0, {0} significantly difference {1} and {2}\".format(var, months[0], months[1]))\n",
    "    else:\n",
    "        print(\"accept H0, {0} not significantly difference {1} and {2}\".format(var, months[0], months[1]))\n",
    "    return None"
   ]
  },
  {
   "cell_type": "code",
   "execution_count": null,
   "metadata": {},
   "outputs": [],
   "source": [
    "t_test_last_mom(df, \"monthly_salary\")"
   ]
  },
  {
   "cell_type": "markdown",
   "metadata": {},
   "source": [
    "##### Chisq-test\n",
    "__Goodness to fit test__ top reject between last month whith last 2 month as base distribution"
   ]
  },
  {
   "cell_type": "code",
   "execution_count": 4,
   "metadata": {},
   "outputs": [
    {
     "name": "stdout",
     "output_type": "stream",
     "text": [
      "result_description     D24     D09     D11     D01    D30\n",
      "month                                                    \n",
      "201801              3171.0  1426.0  1789.0   673.0  659.0\n",
      "201802              3543.0  1734.0  1971.0   909.0  763.0\n",
      "201803              3599.0  1827.0  1517.0  1083.0  856.0\n",
      "201804              2780.0  1266.0  1214.0   774.0  676.0\n",
      "201805              3598.0  1723.0  1515.0   979.0  827.0\n"
     ]
    }
   ],
   "source": [
    "# create cross tabulation data for calculation\n",
    "top5_decline_monthly = \\\n",
    "(df.query('channel == \"OSS\" and result == \"R\"')\n",
    " .groupby(['month', 'result_description']).size().unstack(0)\n",
    " .sort_values('201805', ascending = False).head(5).stack().unstack(0))\n",
    "print(top5_decline_monthly)"
   ]
  },
  {
   "cell_type": "code",
   "execution_count": 5,
   "metadata": {},
   "outputs": [
    {
     "name": "stdout",
     "output_type": "stream",
     "text": [
      "Power_divergenceResult(statistic=568.315004708985, pvalue=1.1144216438232822e-121)\n",
      "Reject H0 : the distribution are difference\n"
     ]
    }
   ],
   "source": [
    "# select expected distribution as last 2 month\n",
    "# select observed distribution as last month\n",
    "exp_dist = top5_decline_monthly.iloc[top5_decline_monthly.shape[0]-2]\n",
    "obs_dist = top5_decline_monthly.iloc[top5_decline_monthly.shape[0]-1]\n",
    "\n",
    "# chisq goodness of fit\n",
    "test = stats.chisquare(obs_dist, exp_dist)\n",
    "print(test)\n",
    "\n",
    "# test result\n",
    "if test.pvalue < 0.05:\n",
    "    print('Reject H0 : the distribution are difference')\n",
    "else:\n",
    "    print('Accept H0 : the distribution are same')"
   ]
  },
  {
   "cell_type": "raw",
   "metadata": {},
   "source": [
    "# another way to count top 5 rejects by month\n",
    "(pd.crosstab(df.query('channel == \"OSS\" and result == \"R\"')['month'], \n",
    "            df.query('channel == \"OSS\" and result == \"R\"')['result_description'])\n",
    " .sort_values(by = '201805', axis = 1, ascending = False).transpose().head().transpose())"
   ]
  },
  {
   "cell_type": "markdown",
   "metadata": {},
   "source": [
    "prove chisq test of indepent formular\n",
    "\n",
    "$\\chi^2 = \\sum_{i=0}^n \\frac{[O-E]^2}{E}$"
   ]
  },
  {
   "cell_type": "code",
   "execution_count": 14,
   "metadata": {},
   "outputs": [
    {
     "data": {
      "text/plain": [
       "568.315004708985"
      ]
     },
     "execution_count": 14,
     "metadata": {},
     "output_type": "execute_result"
    }
   ],
   "source": [
    "((top5_decline_monthly.loc['201805'] - top5_decline_monthly.loc['201804'])**2/top5_decline_monthly.loc['201804']).sum()"
   ]
  },
  {
   "cell_type": "markdown",
   "metadata": {},
   "source": [
    "##### Chisq-test\n",
    "__Independent test__ between age and region"
   ]
  },
  {
   "cell_type": "code",
   "execution_count": null,
   "metadata": {},
   "outputs": [],
   "source": []
  }
 ],
 "metadata": {
  "kernelspec": {
   "display_name": "Python 3",
   "language": "python",
   "name": "python3"
  },
  "language_info": {
   "codemirror_mode": {
    "name": "ipython",
    "version": 3
   },
   "file_extension": ".py",
   "mimetype": "text/x-python",
   "name": "python",
   "nbconvert_exporter": "python",
   "pygments_lexer": "ipython3",
   "version": "3.6.5"
  }
 },
 "nbformat": 4,
 "nbformat_minor": 2
}
