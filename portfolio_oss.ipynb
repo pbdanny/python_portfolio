{
 "cells": [
  {
   "cell_type": "code",
   "execution_count": 93,
   "metadata": {},
   "outputs": [],
   "source": [
    "# initialized connection\n",
    "import pandas as pd\n",
    "import numpy as np\n",
    "import matplotlib.pyplot as plt\n",
    "import psycopg2 as pg\n",
    "from scipy import stats"
   ]
  },
  {
   "cell_type": "code",
   "execution_count": 2,
   "metadata": {},
   "outputs": [],
   "source": [
    "# read pwd string from save file\n",
    "with open('postgrest_pwd.txt', 'r') as f:\n",
    "    pwd = f.readline()"
   ]
  },
  {
   "cell_type": "code",
   "execution_count": 3,
   "metadata": {},
   "outputs": [],
   "source": [
    "# read data from table to datatframe with Month form 201801\n",
    "table = 'mis_cc_kpi_m'\n",
    "with pg.connect(database='ktc', user='postgres', password=pwd) as con:\n",
    "    df = pd.read_sql('select * from ' + table + ' where \"month\"::bigint >= 201801', con = con)"
   ]
  },
  {
   "cell_type": "markdown",
   "metadata": {},
   "source": [
    "## Oss Credit card by month\n",
    "### Approved performance"
   ]
  },
  {
   "cell_type": "markdown",
   "metadata": {},
   "source": [
    "#### Finalized"
   ]
  },
  {
   "cell_type": "code",
   "execution_count": null,
   "metadata": {},
   "outputs": [],
   "source": [
    "df_gr = df.groupby(['month', 'channel', 'channel_sub'])\n",
    "df_gr['finalized'].sum().unstack(0).applymap(\"{:,d}\".format)"
   ]
  },
  {
   "cell_type": "markdown",
   "metadata": {},
   "source": [
    "#### Approve-new"
   ]
  },
  {
   "cell_type": "code",
   "execution_count": null,
   "metadata": {},
   "outputs": [],
   "source": [
    "df_gr['appr_new'].sum().unstack(0).applymap(\"{:,d}\".format)"
   ]
  },
  {
   "cell_type": "markdown",
   "metadata": {},
   "source": [
    "#### % Appr-rate"
   ]
  },
  {
   "cell_type": "code",
   "execution_count": null,
   "metadata": {},
   "outputs": [],
   "source": [
    "(df_gr['appr'].sum()/df_gr['finalized'].sum()).unstack(0).applymap(\"{:.0%}\".format)"
   ]
  },
  {
   "cell_type": "markdown",
   "metadata": {},
   "source": [
    "#### Credit limit new"
   ]
  },
  {
   "cell_type": "code",
   "execution_count": null,
   "metadata": {},
   "outputs": [],
   "source": [
    "(df_gr['credit_limit_new'].sum()/df_gr['appr_new'].sum()).unstack(0).applymap(\"{:,.0f}\".format)"
   ]
  },
  {
   "cell_type": "markdown",
   "metadata": {},
   "source": [
    "#### % active60D"
   ]
  },
  {
   "cell_type": "code",
   "execution_count": null,
   "metadata": {},
   "outputs": [],
   "source": [
    "(df_gr['active60'].sum()/df_gr['appr_new'].sum()).unstack(0).applymap(\"{:.0%}\".format)"
   ]
  },
  {
   "cell_type": "code",
   "execution_count": null,
   "metadata": {},
   "outputs": [],
   "source": [
    "df.groupby(['channel_sub', 'month'])['finalized'].sum().unstack(0).plot()"
   ]
  },
  {
   "cell_type": "code",
   "execution_count": null,
   "metadata": {},
   "outputs": [],
   "source": [
    "df_gr[['finalized', 'appr_new']].sum().stack().unstack(0).applymap(\"{:,d}\".format)"
   ]
  },
  {
   "cell_type": "code",
   "execution_count": null,
   "metadata": {},
   "outputs": [],
   "source": [
    "# group by , sum, reset MultiIndex -> DataFrame\n",
    "i = df_gr[['finalized', 'appr', 'appr_new']].sum().reset_index()\n",
    "# create per apr from appr_new / finalzied\n",
    "i['per_apr'] = (i['appr_new']/i['finalized'])\n",
    "# Set style\n",
    "i.style.format({'finalized':\"{:,.0f}\", 'appr':\"{:,.0f}\", 'appr_new':\"{:,.0f}\"}).format({'per_apr':\"{:,.0%}\"})"
   ]
  },
  {
   "cell_type": "markdown",
   "metadata": {},
   "source": [
    "### Top Reason\n",
    "#### OSS - top 5 Decline"
   ]
  },
  {
   "cell_type": "code",
   "execution_count": null,
   "metadata": {},
   "outputs": [],
   "source": [
    "# Filter only result == 'R' and channel == 'OSS'\n",
    "# then group by month, result_description\n",
    "# then size() \n",
    "# then reset MultiIndex to DataFrame\n",
    "decline = (df[(df.result == 'R') & (df.channel == 'OSS')]\n",
    "           .groupby(['month','result_description'])['finalized']\n",
    "           .size().reset_index())"
   ]
  },
  {
   "cell_type": "code",
   "execution_count": null,
   "metadata": {},
   "outputs": [],
   "source": [
    "# create column rn = sort by finalized, decending order\n",
    "# group by month, create rn (row_number) by cumcount()  +1\n",
    "# query only rn (row_number) <= 5 (top 5)\n",
    "# sort Dataframe by 'month and rn'\n",
    "\n",
    "top_decline = (decline.assign(rn = decline.sort_values(['finalized'], ascending=False)\n",
    "               .groupby(['month']).cumcount() + 1)\n",
    "               .query('rn <= 5')\n",
    "               .sort_values(['month', 'rn']))"
   ]
  },
  {
   "cell_type": "code",
   "execution_count": null,
   "metadata": {},
   "outputs": [],
   "source": [
    "# transform DataFrame to MultiIndex with pivot, sort by values in 201805\n",
    "top_decline.pivot(index='result_description', columns='month', values='finalized').sort_values('201805', ascending = False)"
   ]
  },
  {
   "cell_type": "markdown",
   "metadata": {},
   "source": [
    "Another way of creating top decline"
   ]
  },
  {
   "cell_type": "code",
   "execution_count": null,
   "metadata": {},
   "outputs": [],
   "source": [
    "(df.query('result == \"R\" and channel == \"OSS\"')\n",
    " .groupby(['month', 'result_description'])\n",
    " .size().unstack(0).sort_values('201805', ascending = False).head(5))"
   ]
  },
  {
   "cell_type": "markdown",
   "metadata": {},
   "source": [
    "OSS - % top 5 decline"
   ]
  },
  {
   "cell_type": "code",
   "execution_count": null,
   "metadata": {},
   "outputs": [],
   "source": [
    "# Series of top decline by month and reason\n",
    "decline = (df.query('result == \"R\" and channel == \"OSS\"')\n",
    " .groupby(['month', 'result_description'])\n",
    " .size())\n",
    "\n",
    "# Series of finalized by month\n",
    "finalized = (df.groupby('month').size())\n",
    "\n",
    "# Series of top decline by month and reason / series of finalized by month, matching by month\n",
    "(decline.div(finalized, level='month')\n",
    " .unstack(0)\n",
    " .sort_values('201805', ascending = False)\n",
    " .applymap(\"{:,.0%}\".format).head(5))"
   ]
  },
  {
   "cell_type": "markdown",
   "metadata": {},
   "source": [
    "Oss - Top 5 cancel & % top 5 cancel"
   ]
  },
  {
   "cell_type": "code",
   "execution_count": null,
   "metadata": {},
   "outputs": [],
   "source": [
    "oss_cancel = (df.query('result == \"C\" and channel == \"OSS\"')\n",
    "              .groupby(['month', 'result_description']).size())\n",
    "oss_finaize = (df.query('channel == \"OSS\"').groupby('month').size())\n",
    "\n",
    "oss_cancel.unstack(0).sort_values('201805', ascending = False).head(5).applymap(\"{:,.0f}\".format)"
   ]
  },
  {
   "cell_type": "code",
   "execution_count": null,
   "metadata": {},
   "outputs": [],
   "source": [
    "(oss_cancel.div(oss_finaize, level = 'month').unstack(0).sort_values('201805', ascending = False)\n",
    " .head(5).applymap(\"{:,.0%}\".format))"
   ]
  },
  {
   "cell_type": "markdown",
   "metadata": {},
   "source": [
    "### Demographic group"
   ]
  },
  {
   "cell_type": "code",
   "execution_count": null,
   "metadata": {},
   "outputs": [],
   "source": [
    "%matplotlib notebook"
   ]
  },
  {
   "cell_type": "code",
   "execution_count": null,
   "metadata": {},
   "outputs": [],
   "source": [
    "df.loc[df.age > 0].groupby('month')['age'].plot.density()"
   ]
  },
  {
   "cell_type": "code",
   "execution_count": null,
   "metadata": {},
   "outputs": [],
   "source": [
    "# use group by\n",
    "df.groupby(['channel','bkk_upc']).size().unstack(0)"
   ]
  },
  {
   "cell_type": "code",
   "execution_count": null,
   "metadata": {},
   "outputs": [],
   "source": [
    "# use cross tab\n",
    "pd.crosstab(df.bkk_upc, df.channel)"
   ]
  },
  {
   "cell_type": "code",
   "execution_count": null,
   "metadata": {},
   "outputs": [],
   "source": [
    "%matplotlib inline\n",
    "df.groupby(['channel','bkk_upc']).size().unstack(0).plot.pie(subplots = True, figsize=(8,4))"
   ]
  },
  {
   "cell_type": "code",
   "execution_count": null,
   "metadata": {},
   "outputs": [],
   "source": [
    "df.groupby(['channel','month','bkk_upc']).size().unstack([0,1])['OSS'].plot.pie(subplots = True, figsize=(20,4))"
   ]
  },
  {
   "cell_type": "code",
   "execution_count": null,
   "metadata": {},
   "outputs": [],
   "source": [
    "df.groupby(['channel','month','bkk_upc']).size().unstack([0,2])['OSS'].plot.bar(stacked = True)"
   ]
  },
  {
   "cell_type": "markdown",
   "metadata": {},
   "source": [
    "### Statistical inference\n",
    "t-test average age last month vs last 2 month"
   ]
  },
  {
   "cell_type": "code",
   "execution_count": 75,
   "metadata": {},
   "outputs": [
    {
     "data": {
      "text/plain": [
       "month\n",
       "201801    33.452415\n",
       "201802    33.449354\n",
       "201803    33.254700\n",
       "201804    32.491335\n",
       "201805    32.431785\n",
       "Name: age, dtype: float64"
      ]
     },
     "execution_count": 75,
     "metadata": {},
     "output_type": "execute_result"
    }
   ],
   "source": [
    "df.query('channel == \"OSS\" and age > 0').groupby('month')['age'].mean()"
   ]
  },
  {
   "cell_type": "code",
   "execution_count": 76,
   "metadata": {},
   "outputs": [
    {
     "data": {
      "text/plain": [
       "<matplotlib.axes._subplots.AxesSubplot at 0x15ca1c30>"
      ]
     },
     "execution_count": 76,
     "metadata": {},
     "output_type": "execute_result"
    },
    {
     "data": {
      "image/png": "[encoded data removed]",
      "text/plain": [
       "<Figure size 432x288 with 1 Axes>"
      ]
     },
     "metadata": {},
     "output_type": "display_data"
    }
   ],
   "source": [
    "df.query('channel == \"OSS\" and age > 0').boxplot(column='age', by='month')"
   ]
  },
  {
   "cell_type": "code",
   "execution_count": 145,
   "metadata": {},
   "outputs": [],
   "source": [
    "def last_2_month(df):\n",
    "    month_list = df.month.unique()\n",
    "    month_list.sort()\n",
    "    try:\n",
    "        return month_list[-1:-3:-1]  # list of last month and last 2 month\n",
    "    except:\n",
    "        print(\"Error \".format(month_list))\n",
    "        return None"
   ]
  },
  {
   "cell_type": "code",
   "execution_count": 146,
   "metadata": {},
   "outputs": [],
   "source": [
    "def t_test_last_mom(df, var):\n",
    "    # find last month and last 2 month\n",
    "    months = last_2_month(df)\n",
    "    \n",
    "    # Pair-wised t-test differenc in mean\n",
    "    var_last = df.loc[(df.channel == \"OSS\") & (df.month == months[0]), [var]]\n",
    "    var_last_2 = df.loc[(df.channel == \"OSS\") & (df.month == months[1]), [var]]\n",
    "    test = stats.ttest_ind(var_last, var_last_2)\n",
    "    \n",
    "    # print test result\n",
    "    print(\"{0} t-test month {1} with month {2}\".format(var, months[0], months[1]))\n",
    "    print(\"p-valus : {:.5f}\".format(test.pvalue[0]))\n",
    "    if test.pvalue[0] < 0.05:\n",
    "        print(\"reject H0, {0} significantly difference {1} and {2}\".format(var, months[0], months[1]))\n",
    "    else:\n",
    "        print(\"accept H0, {0} not significantly difference {1} and {2}\".format(var, months[0], months[1]))\n",
    "    return None"
   ]
  },
  {
   "cell_type": "code",
   "execution_count": 151,
   "metadata": {},
   "outputs": [
    {
     "name": "stdout",
     "output_type": "stream",
     "text": [
      "monthly_salary t-test month 201805 with month 201804\n",
      "p-valus : 0.02263\n",
      "reject H0, monthly_salary significantly difference 201805 and 201804\n"
     ]
    }
   ],
   "source": [
    "t_test_last_mom(df, \"monthly_salary\")"
   ]
  },
  {
   "cell_type": "code",
   "execution_count": null,
   "metadata": {},
   "outputs": [],
   "source": [
    "import pandas.plotting as plotting\n",
    "plotting.scatter_matrix(df[['age', 'monthly_salary', 'approve_amount']])"
   ]
  },
  {
   "cell_type": "code",
   "execution_count": null,
   "metadata": {},
   "outputs": [],
   "source": [
    "import seaborn as sns\n",
    "sns.pairplot(df, vars=['age', 'monthly_salary'], hue='result')"
   ]
  },
  {
   "cell_type": "markdown",
   "metadata": {},
   "source": [
    "### Linear Regression"
   ]
  },
  {
   "cell_type": "code",
   "execution_count": null,
   "metadata": {},
   "outputs": [],
   "source": [
    "# from statsmodels.formula.api import olsM\n",
    "model = ols(\"approve_amount ~ result\", df).fit()\n",
    "model.summary()"
   ]
  }
 ],
 "metadata": {
  "kernelspec": {
   "display_name": "Python 3",
   "language": "python",
   "name": "python3"
  },
  "language_info": {
   "codemirror_mode": {
    "name": "ipython",
    "version": 3
   },
   "file_extension": ".py",
   "mimetype": "text/x-python",
   "name": "python",
   "nbconvert_exporter": "python",
   "pygments_lexer": "ipython3",
   "version": "3.6.5"
  }
 },
 "nbformat": 4,
 "nbformat_minor": 2
}
